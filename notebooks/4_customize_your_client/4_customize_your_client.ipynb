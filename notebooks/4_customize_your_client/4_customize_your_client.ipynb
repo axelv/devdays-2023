{
 "cells": [
  {
   "attachments": {},
   "cell_type": "markdown",
   "metadata": {},
   "source": [
    "Some resources allow you to do other operations than the classic CRUDS operations. A good example of this are the FHIR Terminology Resources. In this notebook we'll explore **ValueSet/$expand** and **ValueSet/$validate**. "
   ]
  },
  {
   "attachments": {},
   "cell_type": "markdown",
   "metadata": {},
   "source": [
    "## ValueSet/$expand"
   ]
  },
  {
   "cell_type": "code",
   "execution_count": 21,
   "metadata": {},
   "outputs": [
    {
     "name": "stdout",
     "output_type": "stream",
     "text": [
      "307593001 Carcinomatosis\n",
      "722688002 Malignant epithelial neoplasm\n",
      "1156454002 Embryonal carcinoma\n",
      "449248000 Nasopharyngeal carcinoma\n",
      "274084007 Palate carcinoma\n",
      "255037004 Parathyroid carcinoma\n",
      "254955001 Pituitary carcinoma\n",
      "269516007 Tongue carcinoma\n",
      "274085008 Tonsil carcinoma\n",
      "403929003 Trichilemmal carcinoma\n"
     ]
    }
   ],
   "source": [
    "# using the standard Python requests library\n",
    "# import dependencies\n",
    "from requests import get, post\n",
    "\n",
    "# these are some headers that we always want to send with our requests\n",
    "req_kwargs = {\"headers\" : {\"Accept\": \"application/fhir+json; fhirVersion=4.3\"}}\n",
    "# let's expand a ValueSet \n",
    "vs_expansion = get(\"http://r4.ontoserver.csiro.au/fhir/ValueSet/$expand?url=http://snomed.info/sct?fhir_vs=isa/363346000&count=10&filter=carcinoma\", **req_kwargs).json()\n",
    "for coding in vs_expansion[\"expansion\"][\"contains\"]:\n",
    "    print(coding[\"code\"], coding[\"display\"])"
   ]
  },
  {
   "cell_type": "code",
   "execution_count": null,
   "metadata": {},
   "outputs": [
    {
     "name": "stdout",
     "output_type": "stream",
     "text": [
      "307593001 Carcinomatosis\n",
      "722688002 Malignant epithelial neoplasm\n",
      "1156454002 Embryonal carcinoma\n",
      "449248000 Nasopharyngeal carcinoma\n",
      "274084007 Palate carcinoma\n",
      "255037004 Parathyroid carcinoma\n",
      "254955001 Pituitary carcinoma\n",
      "269516007 Tongue carcinoma\n",
      "274085008 Tonsil carcinoma\n",
      "403929003 Trichilemmal carcinoma\n"
     ]
    }
   ],
   "source": [
    "from fhirpy.base.exceptions import OperationOutcome\n",
    "from tx_client import SyncFHIRTerminologyClient, r4\n",
    "\n",
    "# create a ontoserver client\n",
    "client = SyncFHIRTerminologyClient(\"http://r4.ontoserver.csiro.au/fhir\")\n",
    "\n",
    "try:\n",
    "    vs = client.ValueSet().expand(\n",
    "        url=r4.uri(\"http://snomed.info/sct?fhir_vs=isa/363346000\"),\n",
    "        filter=r4.string(\"carcinoma\"),\n",
    "        count=r4.integer(10),\n",
    "    )\n",
    "    for coding in vs.expansion.contains:\n",
    "        print(coding.code, coding.display)\n",
    "except OperationOutcome as e:\n",
    "    print(e.resource)"
   ]
  },
  {
   "attachments": {},
   "cell_type": "markdown",
   "metadata": {},
   "source": [
    "# ValueSet/$validate"
   ]
  },
  {
   "cell_type": "code",
   "execution_count": 25,
   "metadata": {},
   "outputs": [
    {
     "name": "stdout",
     "output_type": "stream",
     "text": [
      "{'parameter': [{'name': 'result', 'valueBoolean': False},\n",
      "               {'name': 'code', 'valueCode': '363346000'},\n",
      "               {'name': 'system', 'valueUri': 'http://snomed.info/sct'},\n",
      "               {'name': 'version',\n",
      "                'valueString': 'http://snomed.info/sct/32506021000036107/version/20230531'},\n",
      "               {'name': 'display',\n",
      "                'valueString': 'Malignant neoplastic disease'},\n",
      "               {'name': 'message',\n",
      "                'valueString': 'The provided code '\n",
      "                               '\"http://snomed.info/sct#363346000\" exists in '\n",
      "                               'the ValueSet, but the display \"carcinoma\" is '\n",
      "                               'incorrect'},\n",
      "               {'name': 'issues',\n",
      "                'resource': {'issue': [{'code': 'invalid',\n",
      "                                        'details': {'text': 'The provided code '\n",
      "                                                            '\"http://snomed.info/sct#363346000\" '\n",
      "                                                            'exists in the '\n",
      "                                                            'ValueSet, but the '\n",
      "                                                            'display '\n",
      "                                                            '\"carcinoma\" is '\n",
      "                                                            'incorrect'},\n",
      "                                        'location': ['Coding.display'],\n",
      "                                        'severity': 'error'},\n",
      "                                       {'code': 'code-invalid',\n",
      "                                        'details': {'text': 'There was no '\n",
      "                                                            'valid code '\n",
      "                                                            'provided that is '\n",
      "                                                            'in the value set '\n",
      "                                                            '\"http://snomed.info/sct?fhir_vs=isa/363346000\"'},\n",
      "                                        'severity': 'error'}],\n",
      "                             'resourceType': 'OperationOutcome'}}],\n",
      " 'resourceType': 'Parameters'}\n"
     ]
    }
   ],
   "source": [
    "from pprint import pprint\n",
    "# let's expand a ValueSet\n",
    "validation_result = post(\"http://r4.ontoserver.csiro.au/fhir/ValueSet/$validate-code\",\n",
    "                        json={\n",
    "                            \"resourceType\": \"Parameters\",\n",
    "                            \"parameter\": [\n",
    "                                {\n",
    "                                    \"name\": \"url\",\n",
    "                                    \"valueUri\": \"http://snomed.info/sct?fhir_vs=isa/363346000\",\n",
    "                                },\n",
    "                                {\n",
    "                                    \"name\": \"coding\",\n",
    "                                    \"valueCoding\": {\n",
    "                                        \"system\": \"http://snomed.info/sct\",\n",
    "                                        \"code\": \"363346000\",\n",
    "                                        \"display\": \"carcinoma\",\n",
    "                                    },\n",
    "                                }\n",
    "                            ]\n",
    "                        }, **req_kwargs).json()\n",
    "pprint(validation_result)"
   ]
  },
  {
   "cell_type": "code",
   "execution_count": 27,
   "metadata": {},
   "outputs": [
    {
     "name": "stdout",
     "output_type": "stream",
     "text": [
      "{'code': '363346000',\n",
      " 'display': 'Malignant neoplastic disease',\n",
      " 'issues': None,\n",
      " 'message': 'The provided code \"http://snomed.info/sct#363346000\" exists in '\n",
      "            'the ValueSet, but the display \"carcinoma\" is incorrect',\n",
      " 'result': False,\n",
      " 'system': 'http://snomed.info/sct',\n",
      " 'version': 'http://snomed.info/sct/32506021000036107/version/20230531'}\n"
     ]
    }
   ],
   "source": [
    "try:\n",
    "    result = client.ValueSet().validate_code(\n",
    "        url=r4.uri(\"http://snomed.info/sct?fhir_vs=isa/363346000\"),\n",
    "        coding=r4.Coding(\n",
    "            display=r4.string(\"carcinoma\"), \n",
    "            code=r4.code(\"363346000\"), \n",
    "            system=r4.uri(\"http://snomed.info/sct\")\n",
    "        ),\n",
    "    )\n",
    "    pprint(result)\n",
    "except OperationOutcome as e:\n",
    "    pprint(e.resource)"
   ]
  },
  {
   "cell_type": "code",
   "execution_count": null,
   "metadata": {},
   "outputs": [],
   "source": []
  }
 ],
 "metadata": {
  "kernelspec": {
   "display_name": ".venv",
   "language": "python",
   "name": "python3"
  },
  "language_info": {
   "codemirror_mode": {
    "name": "ipython",
    "version": 3
   },
   "file_extension": ".py",
   "mimetype": "text/x-python",
   "name": "python",
   "nbconvert_exporter": "python",
   "pygments_lexer": "ipython3",
   "version": "3.11.3"
  },
  "orig_nbformat": 4
 },
 "nbformat": 4,
 "nbformat_minor": 2
}
