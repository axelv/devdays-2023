{
 "cells": [
  {
   "attachments": {},
   "cell_type": "markdown",
   "metadata": {},
   "source": [
    "### Setup the environment"
   ]
  },
  {
   "cell_type": "code",
   "execution_count": 1,
   "metadata": {},
   "outputs": [],
   "source": [
    "# import dependencies\n",
    "from requests import get\n",
    "\n",
    "# these are some headers that we always want to send with our requests\n",
    "req_kwargs = {\"headers\" : {\"Accept\": \"application/fhir+json; fhirVersion=4.3\"}}"
   ]
  },
  {
   "cell_type": "code",
   "execution_count": 2,
   "metadata": {},
   "outputs": [
    {
     "name": "stdout",
     "output_type": "stream",
     "text": [
      "{'family': 'Doe', 'given': ['Jane']}\n",
      "{'resourceType': 'Observation', 'id': '10308611', 'meta': {'versionId': '1', 'lastUpdated': '2023-04-19T10:00:46.138+00:00', 'source': '#4Twh90DgRX4H2DHG'}, 'code': {'coding': [{'system': 'http://foo', 'code': '12345'}]}, 'subject': {'reference': 'Patient/596637'}, 'effectiveDateTime': '2023-04-19T09:34:50+01:00', 'valueQuantity': {'value': 123, 'unit': 'kg', 'system': 'http://bar', 'code': 'kg'}}\n",
      "{'resourceType': 'Observation', 'id': '10313611', 'meta': {'versionId': '1', 'lastUpdated': '2023-04-19T10:03:46.478+00:00', 'source': '#9dmQ1Nj9i1WvCXXB'}, 'code': {'coding': [{'system': 'http://foo', 'code': '12345'}]}, 'subject': {'reference': 'Patient/596637'}, 'effectiveDateTime': '2023-04-19T09:34:50+01:00', 'valueQuantity': {'value': 123, 'unit': 'kg', 'system': 'http://bar', 'code': 'kg'}}\n",
      "{'resourceType': 'Observation', 'id': '10318613', 'meta': {'versionId': '1', 'lastUpdated': '2023-04-19T10:06:23.858+00:00', 'source': '#9XN70mvX66cpXTN4'}, 'code': {'coding': [{'system': 'http://foo', 'code': '12345'}]}, 'subject': {'reference': 'Patient/596637'}, 'effectiveDateTime': '2023-04-19T09:34:50+01:00', 'valueQuantity': {'value': 123, 'unit': 'kg', 'system': 'http://bar', 'code': 'kg'}}\n",
      "{'resourceType': 'Observation', 'id': '10323616', 'meta': {'versionId': '1', 'lastUpdated': '2023-04-19T10:08:57.117+00:00', 'source': '#OlgaztpNqiGLAn6V'}, 'code': {'coding': [{'system': 'http://foo', 'code': '12345'}]}, 'subject': {'reference': 'Patient/596637'}, 'effectiveDateTime': '2023-04-19T09:34:50+01:00', 'valueQuantity': {'value': 123, 'unit': 'kg', 'system': 'http://bar', 'code': 'kg'}}\n"
     ]
    }
   ],
   "source": [
    "# let's get a patient\n",
    "patient_search_result = get(\"http://hapi.fhir.org/baseR4/Patient?birthdate=1970-01-01&_count=1\", **req_kwargs).json()\n",
    "patient = patient_search_result[\"entry\"][0][\"resource\"]\n",
    "print(patient[\"name\"][0]) # print the entry of the patient's name\n",
    "\n",
    "# let's get some observations of that patient\n",
    "obs_search_result = get(f\"http://hapi.fhir.org/baseR4/Observation?subject=Patient/{patient['id']}&_count=100\", **req_kwargs).json()\n",
    "observations = [obs[\"resource\"] for obs in obs_search_result[\"entry\"]]\n",
    "print(\"\\n\".join([repr(obs) for obs in observations]))"
   ]
  },
  {
   "attachments": {},
   "cell_type": "markdown",
   "metadata": {},
   "source": [
    "The code you've executed above requires quite some knowledge about FHIR and often means you're coding side by side with the FHIR docs on your second screen. Also, we didn't check if any of the fields that we've accessed actually exists... Clearly material that causes headaches in production code "
   ]
  },
  {
   "attachments": {},
   "cell_type": "markdown",
   "metadata": {},
   "source": [
    "Now let's try this again but using some classes that help us parse the patient and observations"
   ]
  },
  {
   "cell_type": "code",
   "execution_count": 3,
   "metadata": {},
   "outputs": [
    {
     "data": {
      "text/plain": [
       "Patient(resourceType='Patient', id='596637', meta=Meta(tag=[], source='#iruvNwCrTm9erTXX', profile=[], security=[], extension=[], versionId='3', lastUpdated='2020-02-02T06:54:08.067+00:00', id=None), text=Narrative(id=None, div='<div xmlns=\"http://www.w3.org/1999/xhtml\"><div class=\"hapiHeaderText\">Jane <b>DOE </b></div><table class=\"hapiPropertyTable\"><tbody><tr><td>Date of birth</td><td><span>01 January 1970</span></td></tr></tbody></table></div>', status='generated', extension=[]), name=[HumanName(id=None, use=None, text=None, given=['Jane'], family='Doe', prefix=[], suffix=[], period=None, extension=[])], link=[], photo=[], active=True, gender='female', telecom=[], address=[], contact=[], language=None, contained=[], extension=[], birthDate='1970-01-01', identifier=[], deceasedBoolean=False, deceasedDateTime=None, implicitRules=None, maritalStatus=None, communication=[], multipleBirthBoolean=None, multipleBirthInteger=None, modifierExtension=[], generalPractitioner=[], managingOrganization=None)"
      ]
     },
     "execution_count": 3,
     "metadata": {},
     "output_type": "execute_result"
    }
   ],
   "source": [
    "from r4 import Bundle, Observation, Patient\n",
    "patient_obj = Patient.parse_obj(patient)\n",
    "patient_obj"
   ]
  },
  {
   "cell_type": "code",
   "execution_count": 4,
   "metadata": {},
   "outputs": [
    {
     "ename": "ValidationError",
     "evalue": "1 validation error for Observation\nstatus\n  field required (type=value_error.missing)",
     "output_type": "error",
     "traceback": [
      "\u001b[0;31m---------------------------------------------------------------------------\u001b[0m",
      "\u001b[0;31mValidationError\u001b[0m                           Traceback (most recent call last)",
      "Cell \u001b[0;32mIn[4], line 1\u001b[0m\n\u001b[0;32m----> 1\u001b[0m obs_obj \u001b[39m=\u001b[39m Observation\u001b[39m.\u001b[39;49mparse_obj(observations[\u001b[39m0\u001b[39;49m])\n",
      "File \u001b[0;32m~/dev/devdays-2023/.venv/lib/python3.11/site-packages/pydantic/main.py:526\u001b[0m, in \u001b[0;36mpydantic.main.BaseModel.parse_obj\u001b[0;34m()\u001b[0m\n",
      "File \u001b[0;32m~/dev/devdays-2023/.venv/lib/python3.11/site-packages/pydantic/main.py:341\u001b[0m, in \u001b[0;36mpydantic.main.BaseModel.__init__\u001b[0;34m()\u001b[0m\n",
      "\u001b[0;31mValidationError\u001b[0m: 1 validation error for Observation\nstatus\n  field required (type=value_error.missing)"
     ]
    }
   ],
   "source": [
    "obs_obj = Observation.parse_obj(observations[0])"
   ]
  },
  {
   "attachments": {},
   "cell_type": "markdown",
   "metadata": {},
   "source": [
    "The Observation class detected an missing field which is actually required! This is exactly what we need, early detection of inconsistent data. Notice also that you can **hover over the elements** to read the description and the **IDE completions** tell you which elements there exist. "
   ]
  },
  {
   "cell_type": "code",
   "execution_count": 5,
   "metadata": {},
   "outputs": [
    {
     "data": {
      "text/plain": [
       "list"
      ]
     },
     "execution_count": 5,
     "metadata": {},
     "output_type": "execute_result"
    }
   ],
   "source": [
    "bp_obs = Observation.parse_obj({\n",
    "    \"resourceType\": \"Observation\", \n",
    "    \"status\": \"final\", \n",
    "    \"code\": {\"text\": \"Blood pressure\"}, \n",
    "    \"valueQuantity\": {\"value\": 120, \"unit\": \"mmHg\"}\n",
    "    }\n",
    ")\n",
    "type(bp_obs.code.coding)"
   ]
  },
  {
   "attachments": {},
   "cell_type": "markdown",
   "metadata": {},
   "source": [
    "All optional elements with cardinality `0..*` (≈ list) are automatically initialized with empty lists so you can iterate over\n",
    "them without having to check if the field exists."
   ]
  },
  {
   "cell_type": "code",
   "execution_count": 6,
   "metadata": {},
   "outputs": [
    {
     "data": {
      "text/plain": [
       "Patient(resourceType='Patient', id='597292', meta=Meta(tag=[], source='#TQbqZHbzMSf8sULT', profile=[], security=[], extension=[], versionId='1', lastUpdated='2020-02-04T01:33:30.082+00:00', id=None), text=Narrative(id=None, div='<div xmlns=\"http://www.w3.org/1999/xhtml\"><div class=\"hapiHeaderText\">David Fred <b>GERADY </b></div><table class=\"hapiPropertyTable\"><tbody><tr><td>Date of birth</td><td><span>01 January 1970</span></td></tr></tbody></table></div>', status='generated', extension=[]), name=[HumanName(id=None, use='official', text=None, given=['David', 'Fred'], family='Gerady', prefix=[], suffix=[], period=None, extension=[]), HumanName(id=None, use='usual', text=None, given=['Dave'], family=None, prefix=[], suffix=[], period=None, extension=[])], link=[PatientLink(id=None, type='seealso', other=Reference(id=None, type=None, display=None, extension=[], reference='Patient/5', identifier=None), extension=[], modifierExtension=[])], photo=[], active=None, gender='male', telecom=[], address=[], contact=[], language=None, contained=[], extension=[], birthDate='1970-01-01', identifier=[], deceasedBoolean=None, deceasedDateTime=None, implicitRules=None, maritalStatus=None, communication=[], multipleBirthBoolean=None, multipleBirthInteger=None, modifierExtension=[], generalPractitioner=[], managingOrganization=Reference(id=None, type=None, display=None, extension=[], reference='Organization/250369', identifier=None))"
      ]
     },
     "execution_count": 6,
     "metadata": {},
     "output_type": "execute_result"
    }
   ],
   "source": [
    "bundle = get(\"http://hapi.fhir.org/baseR4/Patient?birthdate:below=1970\", **req_kwargs).json()\n",
    "\n",
    "Patient.parse_obj(bundle[\"entry\"][4][\"resource\"])"
   ]
  },
  {
   "cell_type": "code",
   "execution_count": 7,
   "metadata": {},
   "outputs": [
    {
     "ename": "AttributeError",
     "evalue": "type object 'Patient' has no attribute '_birthDate'",
     "output_type": "error",
     "traceback": [
      "\u001b[0;31m---------------------------------------------------------------------------\u001b[0m",
      "\u001b[0;31mAttributeError\u001b[0m                            Traceback (most recent call last)",
      "Cell \u001b[0;32mIn[7], line 1\u001b[0m\n\u001b[0;32m----> 1\u001b[0m Patient\u001b[39m.\u001b[39;49m_birthDate\n",
      "\u001b[0;31mAttributeError\u001b[0m: type object 'Patient' has no attribute '_birthDate'"
     ]
    }
   ],
   "source": [
    "Patient._birthDate"
   ]
  },
  {
   "cell_type": "code",
   "execution_count": 8,
   "metadata": {},
   "outputs": [],
   "source": [
    "result = get(\"http://hapi.fhir.org/baseR4/Patient?birthdate:below=1970\").json()\n",
    "patient_search_result = Bundle.parse_obj(get(\"http://hapi.fhir.org/baseR4/Patient?birthdate:below=1970\", **req_kwargs).json())"
   ]
  },
  {
   "cell_type": "code",
   "execution_count": null,
   "metadata": {},
   "outputs": [],
   "source": []
  }
 ],
 "metadata": {
  "kernelspec": {
   "display_name": ".venv",
   "language": "python",
   "name": "python3"
  },
  "language_info": {
   "codemirror_mode": {
    "name": "ipython",
    "version": 3
   },
   "file_extension": ".py",
   "mimetype": "text/x-python",
   "name": "python",
   "nbconvert_exporter": "python",
   "pygments_lexer": "ipython3",
   "version": "3.11.3"
  },
  "orig_nbformat": 4
 },
 "nbformat": 4,
 "nbformat_minor": 2
}
