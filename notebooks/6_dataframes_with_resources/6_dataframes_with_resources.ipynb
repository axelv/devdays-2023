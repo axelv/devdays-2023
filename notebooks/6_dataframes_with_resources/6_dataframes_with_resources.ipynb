{
 "cells": [
  {
   "attachments": {},
   "cell_type": "markdown",
   "metadata": {},
   "source": [
    "A lot of Python developers have some affinity with data science and are used to work with Pandas DataFrames (or similar). But turning FHIR Resources in FHIR DataFrames is hard. You could setup a Spark environment or start using BigQuery, because they have support for hierarchical structures. But there is one tool that can help when you quickly need to do some analytics localy: **pola.rs**"
   ]
  },
  {
   "cell_type": "code",
   "execution_count": 20,
   "metadata": {},
   "outputs": [
    {
     "name": "stdout",
     "output_type": "stream",
     "text": [
      "  % Total    % Received % Xferd  Average Speed   Time    Time     Time  Current\n",
      "                                 Dload  Upload   Total   Spent    Left  Speed\n",
      "100 81.1M  100 81.1M    0     0   829k      0  0:01:40  0:01:40 --:--:--  984k  0      0 --:--:--  0:00:05 --:--:--     0 0   285k      0  0:04:51  0:00:14  0:04:37  881k\n",
      "r4.bundle.zip: OK\n",
      "Archive:  r4.bundle.zip\n",
      "replace fhir/Robert854_Botsford977_148ad83c-4dbc-4cb6-9334-44e6886f1e42.json? [y]es, [n]o, [A]ll, [N]one, [r]ename: "
     ]
    }
   ],
   "source": [
    "# First downooad some Synthea generated data\n",
    "! ./download_sample_bundle.sh"
   ]
  },
  {
   "cell_type": "code",
   "execution_count": null,
   "metadata": {},
   "outputs": [
    {
     "name": "stderr",
     "output_type": "stream",
     "text": [
      "\n",
      "Parse entry: 100%|██████████| 303/303 [00:00<00:00, 1206907.99it/s]\n",
      "\n",
      "Parse entry: 100%|██████████| 272/272 [00:00<00:00, 928275.58it/s]\n",
      "\n",
      "Parse entry: 100%|██████████| 370/370 [00:00<00:00, 1230683.97it/s]\n",
      "\n",
      "Parse entry: 100%|██████████| 122/122 [00:00<00:00, 904072.59it/s]\n",
      "\n",
      "Parse entry: 100%|██████████| 116/116 [00:00<00:00, 757849.32it/s]\n",
      "\n",
      "Parse entry: 100%|██████████| 359/359 [00:00<00:00, 1071711.84it/s]\n",
      "\n",
      "Parse entry: 100%|██████████| 328/328 [00:00<00:00, 1100585.37it/s]\n",
      "\n",
      "Parse entry: 100%|██████████| 2280/2280 [00:00<00:00, 1332452.71it/s]\n",
      "\n",
      "Parse entry: 100%|██████████| 137/137 [00:00<00:00, 729212.75it/s]\n",
      "\n",
      "Parse entry: 100%|██████████| 283/283 [00:00<00:00, 1348850.04it/s]\n",
      "\n",
      "Parse entry: 100%|██████████| 335/335 [00:00<00:00, 1012314.01it/s]\n",
      "Parse Bundle: 10it [01:07,  6.74s/it]\n"
     ]
    }
   ],
   "source": [
    "from pathlib import Path\n",
    "from tqdm import tqdm\n",
    "import r4\n",
    "\n",
    "# The data is stored in the fhir folder and contains a bundle for each patient\n",
    "# Now extract all the patients and conditions from the Bundles\n",
    "\n",
    "NUM_PATIENTS = 10\n",
    "conditions = []\n",
    "patients = []\n",
    "for i,bundle_path in tqdm(enumerate(Path(\"./fhir\").glob(\"*.json\")), desc=\"Parse Bundle\"):\n",
    "    bundle = r4.Bundle.parse_file(bundle_path)\n",
    "    for entry in tqdm(bundle.entry, desc=\"Parse entry\"):\n",
    "        if entry.resource is not None and entry.resource.resourceType == \"Condition\":\n",
    "            conditions.append(entry.resource)\n",
    "        if entry.resource is not None and entry.resource.resourceType == \"Patient\":\n",
    "            patients.append(entry.resource)\n",
    "    if i >= NUM_PATIENTS:\n",
    "        break"
   ]
  },
  {
   "cell_type": "code",
   "execution_count": 13,
   "metadata": {},
   "outputs": [],
   "source": [
    "# Here we use the polars library to convert the list of conditions and patients to DataFrames\n",
    "import polars as pl\n",
    "\n",
    "df_conditions = pl.DataFrame([c.dict(exclude_none=True) for c in conditions])\n",
    "df_patients = pl.DataFrame([p.dict(exclude_none=True) for p in patients])"
   ]
  },
  {
   "cell_type": "code",
   "execution_count": 14,
   "metadata": {},
   "outputs": [
    {
     "data": {
      "text/html": [
       "<div><style>\n",
       ".dataframe > thead > tr > th,\n",
       ".dataframe > tbody > tr > td {\n",
       "  text-align: right;\n",
       "}\n",
       "</style>\n",
       "<small>shape: (11, 3)</small><table border=\"1\" class=\"dataframe\"><thead><tr><th>id</th><th>name</th><th>birthDate</th></tr><tr><td>str</td><td>list[struct[6]]</td><td>str</td></tr></thead><tbody><tr><td>&quot;766a0f64-cfd6-…</td><td>[{&quot;official&quot;,[&quot;Robert854&quot;],&quot;Botsford977&quot;,[&quot;Mrs.&quot;],[],[]}, {&quot;maiden&quot;,[&quot;Robert854&quot;],&quot;Ward668&quot;,[&quot;Mrs.&quot;],[],[]}]</td><td>&quot;1946-04-26&quot;</td></tr><tr><td>&quot;c749327f-e726-…</td><td>[{&quot;official&quot;,[&quot;Will178&quot;],&quot;Lang846&quot;,[],[],[]}]</td><td>&quot;2011-03-11&quot;</td></tr><tr><td>&quot;338e0f93-2fb1-…</td><td>[{&quot;official&quot;,[&quot;Maxwell782&quot;],&quot;Koepp521&quot;,[&quot;Mr.&quot;],[],[]}]</td><td>&quot;1957-09-14&quot;</td></tr><tr><td>&quot;5e6177fd-cc45-…</td><td>[{&quot;official&quot;,[&quot;Gianna370&quot;],&quot;McClure239&quot;,[],[],[]}]</td><td>&quot;2017-11-09&quot;</td></tr><tr><td>&quot;73d58836-0439-…</td><td>[{&quot;official&quot;,[&quot;Shelia548&quot;],&quot;Sipes176&quot;,[],[],[]}]</td><td>&quot;2017-12-27&quot;</td></tr><tr><td>&quot;4ee9ca6e-abda-…</td><td>[{&quot;official&quot;,[&quot;Hertha832&quot;],&quot;Schuster709&quot;,[&quot;Mrs.&quot;],[],[]}, {&quot;maiden&quot;,[&quot;Hertha832&quot;],&quot;Conn188&quot;,[&quot;Mrs.&quot;],[],[]}]</td><td>&quot;1966-08-30&quot;</td></tr><tr><td>&quot;62ac0f0c-6877-…</td><td>[{&quot;official&quot;,[&quot;Faustino767&quot;],&quot;Johnson679&quot;,[&quot;Mr.&quot;],[],[]}]</td><td>&quot;1946-03-29&quot;</td></tr><tr><td>&quot;496593fe-85f9-…</td><td>[{&quot;official&quot;,[&quot;Harrison106&quot;],&quot;Schuster709&quot;,[&quot;Mr.&quot;],[],[]}]</td><td>&quot;1911-04-08&quot;</td></tr><tr><td>&quot;d4155021-030f-…</td><td>[{&quot;official&quot;,[&quot;María Elena653&quot;],&quot;Serrato62&quot;,[&quot;Mrs.&quot;],[],[]}, {&quot;maiden&quot;,[&quot;María Elena653&quot;],&quot;Carrasquillo418&quot;,[&quot;Mrs.&quot;],[],[]}]</td><td>&quot;1966-04-24&quot;</td></tr><tr><td>&quot;15ff0f7a-48a3-…</td><td>[{&quot;official&quot;,[&quot;Lucy743&quot;],&quot;Kris249&quot;,[],[],[]}]</td><td>&quot;2009-11-20&quot;</td></tr><tr><td>&quot;b68bb5ed-95b1-…</td><td>[{&quot;official&quot;,[&quot;Cheryl605&quot;],&quot;Schuppe920&quot;,[&quot;Ms.&quot;],[],[]}]</td><td>&quot;1993-09-07&quot;</td></tr></tbody></table></div>"
      ],
      "text/plain": [
       "shape: (11, 3)\n",
       "┌───────────────────────────────────┬───────────────────────────────────┬────────────┐\n",
       "│ id                                ┆ name                              ┆ birthDate  │\n",
       "│ ---                               ┆ ---                               ┆ ---        │\n",
       "│ str                               ┆ list[struct[6]]                   ┆ str        │\n",
       "╞═══════════════════════════════════╪═══════════════════════════════════╪════════════╡\n",
       "│ 766a0f64-cfd6-4e40-b174-533bfed8… ┆ [{\"official\",[\"Robert854\"],\"Bots… ┆ 1946-04-26 │\n",
       "│ c749327f-e726-4100-9b54-e5159a8e… ┆ [{\"official\",[\"Will178\"],\"Lang84… ┆ 2011-03-11 │\n",
       "│ 338e0f93-2fb1-4152-8703-518686c5… ┆ [{\"official\",[\"Maxwell782\"],\"Koe… ┆ 1957-09-14 │\n",
       "│ 5e6177fd-cc45-41d9-a37c-276442b2… ┆ [{\"official\",[\"Gianna370\"],\"McCl… ┆ 2017-11-09 │\n",
       "│ …                                 ┆ …                                 ┆ …          │\n",
       "│ 496593fe-85f9-46b0-92d0-e655c6b3… ┆ [{\"official\",[\"Harrison106\"],\"Sc… ┆ 1911-04-08 │\n",
       "│ d4155021-030f-4b81-b42f-0dab0601… ┆ [{\"official\",[\"María Elena653\"],… ┆ 1966-04-24 │\n",
       "│ 15ff0f7a-48a3-40f3-86fa-cf89a31c… ┆ [{\"official\",[\"Lucy743\"],\"Kris24… ┆ 2009-11-20 │\n",
       "│ b68bb5ed-95b1-4ed1-9892-c2640d9e… ┆ [{\"official\",[\"Cheryl605\"],\"Schu… ┆ 1993-09-07 │\n",
       "└───────────────────────────────────┴───────────────────────────────────┴────────────┘"
      ]
     },
     "execution_count": 14,
     "metadata": {},
     "output_type": "execute_result"
    }
   ],
   "source": [
    "# You can see that pola.rs supports nested data structures through the use of Arrow under the hood\n",
    "df_patients.select(\"id\", \"name\", \"birthDate\")"
   ]
  },
  {
   "cell_type": "code",
   "execution_count": 15,
   "metadata": {},
   "outputs": [
    {
     "data": {
      "text/html": [
       "<div><style>\n",
       ".dataframe > thead > tr > th,\n",
       ".dataframe > tbody > tr > td {\n",
       "  text-align: right;\n",
       "}\n",
       "</style>\n",
       "<small>shape: (76, 5)</small><table border=\"1\" class=\"dataframe\"><thead><tr><th>id</th><th>code</th><th>onsetDateTime</th><th>abatementDateTime</th><th>subject</th></tr><tr><td>str</td><td>struct[3]</td><td>str</td><td>str</td><td>str</td></tr></thead><tbody><tr><td>&quot;e35163ad-e206-…</td><td>{&quot;Hypertension&quot;,[{&quot;http://snomed.info/sct&quot;,&quot;Hypertension&quot;,[],&quot;59621000&quot;}],[]}</td><td>&quot;1964-06-19T08:…</td><td>null</td><td>&quot;urn:uuid:766a0…</td></tr><tr><td>&quot;cd1ad77b-3505-…</td><td>{&quot;Prediabetes&quot;,[{&quot;http://snomed.info/sct&quot;,&quot;Prediabetes&quot;,[],&quot;15777000&quot;}],[]}</td><td>&quot;1980-07-11T08:…</td><td>null</td><td>&quot;urn:uuid:766a0…</td></tr><tr><td>&quot;c862baa3-7348-…</td><td>{&quot;Anemia (disorder)&quot;,[{&quot;http://snomed.info/sct&quot;,&quot;Anemia (disorder)&quot;,[],&quot;271737000&quot;}],[]}</td><td>&quot;1980-07-11T08:…</td><td>null</td><td>&quot;urn:uuid:766a0…</td></tr><tr><td>&quot;98d39fd3-4cd0-…</td><td>{&quot;Miscarriage in first trimester&quot;,[{&quot;http://snomed.info/sct&quot;,&quot;Miscarriage in first trimester&quot;,[],&quot;19169002&quot;}],[]}</td><td>&quot;1989-11-03T07:…</td><td>null</td><td>&quot;urn:uuid:766a0…</td></tr><tr><td>&quot;e0387a43-6421-…</td><td>{&quot;Osteoarthritis of hip&quot;,[{&quot;http://snomed.info/sct&quot;,&quot;Osteoarthritis of hip&quot;,[],&quot;239872002&quot;}],[]}</td><td>&quot;2000-04-12T08:…</td><td>null</td><td>&quot;urn:uuid:766a0…</td></tr><tr><td>&quot;798116e1-b470-…</td><td>{&quot;Viral sinusitis (disorder)&quot;,[{&quot;http://snomed.info/sct&quot;,&quot;Viral sinusitis (disorder)&quot;,[],&quot;444814009&quot;}],[]}</td><td>&quot;2012-05-08T08:…</td><td>&quot;2012-05-29T08:…</td><td>&quot;urn:uuid:766a0…</td></tr><tr><td>&quot;c002ef60-9a78-…</td><td>{&quot;Acute bacterial sinusitis (disorder)&quot;,[{&quot;http://snomed.info/sct&quot;,&quot;Acute bacterial sinusitis (disorder)&quot;,[],&quot;75498004&quot;}],[]}</td><td>&quot;2017-11-04T08:…</td><td>&quot;2017-12-30T07:…</td><td>&quot;urn:uuid:766a0…</td></tr><tr><td>&quot;91e43578-e138-…</td><td>{&quot;Chronic sinusitis (disorder)&quot;,[{&quot;http://snomed.info/sct&quot;,&quot;Chronic sinusitis (disorder)&quot;,[],&quot;40055000&quot;}],[]}</td><td>&quot;2017-12-23T07:…</td><td>null</td><td>&quot;urn:uuid:766a0…</td></tr><tr><td>&quot;78c6f610-99d6-…</td><td>{&quot;Sprain of ankle&quot;,[{&quot;http://snomed.info/sct&quot;,&quot;Sprain of ankle&quot;,[],&quot;44465007&quot;}],[]}</td><td>&quot;2012-04-04T04:…</td><td>&quot;2012-04-25T04:…</td><td>&quot;urn:uuid:c7493…</td></tr><tr><td>&quot;0050c92a-bd97-…</td><td>{&quot;Fracture of clavicle&quot;,[{&quot;http://snomed.info/sct&quot;,&quot;Fracture of clavicle&quot;,[],&quot;58150001&quot;}],[]}</td><td>&quot;2013-05-20T04:…</td><td>&quot;2013-08-18T04:…</td><td>&quot;urn:uuid:c7493…</td></tr><tr><td>&quot;3536a438-17e8-…</td><td>{&quot;Otitis media&quot;,[{&quot;http://snomed.info/sct&quot;,&quot;Otitis media&quot;,[],&quot;65363002&quot;}],[]}</td><td>&quot;2013-06-28T04:…</td><td>&quot;2013-08-16T04:…</td><td>&quot;urn:uuid:c7493…</td></tr><tr><td>&quot;9638a7c4-f30f-…</td><td>{&quot;Otitis media&quot;,[{&quot;http://snomed.info/sct&quot;,&quot;Otitis media&quot;,[],&quot;65363002&quot;}],[]}</td><td>&quot;2016-07-31T04:…</td><td>&quot;2017-02-24T03:…</td><td>&quot;urn:uuid:c7493…</td></tr><tr><td>&hellip;</td><td>&hellip;</td><td>&hellip;</td><td>&hellip;</td><td>&hellip;</td></tr><tr><td>&quot;4d02a6d9-1879-…</td><td>{&quot;Otitis media&quot;,[{&quot;http://snomed.info/sct&quot;,&quot;Otitis media&quot;,[],&quot;65363002&quot;}],[]}</td><td>&quot;2015-01-23T20:…</td><td>&quot;2015-08-28T21:…</td><td>&quot;urn:uuid:15ff0…</td></tr><tr><td>&quot;cea9b229-28f7-…</td><td>{&quot;Acute bronchitis (disorder)&quot;,[{&quot;http://snomed.info/sct&quot;,&quot;Acute bronchitis (disorder)&quot;,[],&quot;10509002&quot;}],[]}</td><td>&quot;2015-08-22T21:…</td><td>&quot;2015-08-29T21:…</td><td>&quot;urn:uuid:15ff0…</td></tr><tr><td>&quot;30382032-67c4-…</td><td>{&quot;Acute bronchitis (disorder)&quot;,[{&quot;http://snomed.info/sct&quot;,&quot;Acute bronchitis (disorder)&quot;,[],&quot;10509002&quot;}],[]}</td><td>&quot;2010-01-12T19:…</td><td>&quot;2010-01-26T19:…</td><td>&quot;urn:uuid:b68bb…</td></tr><tr><td>&quot;010d5a88-509e-…</td><td>{&quot;Acute viral pharyngitis (disorder)&quot;,[{&quot;http://snomed.info/sct&quot;,&quot;Acute viral pharyngitis (disorder)&quot;,[],&quot;195662009&quot;}],[]}</td><td>&quot;2010-12-21T19:…</td><td>&quot;2010-12-28T19:…</td><td>&quot;urn:uuid:b68bb…</td></tr><tr><td>&quot;f4965204-c024-…</td><td>{&quot;Viral sinusitis (disorder)&quot;,[{&quot;http://snomed.info/sct&quot;,&quot;Viral sinusitis (disorder)&quot;,[],&quot;444814009&quot;}],[]}</td><td>&quot;2011-07-04T20:…</td><td>&quot;2011-07-18T20:…</td><td>&quot;urn:uuid:b68bb…</td></tr><tr><td>&quot;7d1fa3fa-8811-…</td><td>{&quot;Viral sinusitis (disorder)&quot;,[{&quot;http://snomed.info/sct&quot;,&quot;Viral sinusitis (disorder)&quot;,[],&quot;444814009&quot;}],[]}</td><td>&quot;2013-08-12T20:…</td><td>&quot;2013-09-02T20:…</td><td>&quot;urn:uuid:b68bb…</td></tr><tr><td>&quot;ffca53e0-8ca6-…</td><td>{&quot;Viral sinusitis (disorder)&quot;,[{&quot;http://snomed.info/sct&quot;,&quot;Viral sinusitis (disorder)&quot;,[],&quot;444814009&quot;}],[]}</td><td>&quot;2014-05-08T20:…</td><td>&quot;2014-05-15T20:…</td><td>&quot;urn:uuid:b68bb…</td></tr><tr><td>&quot;d4420057-d4cf-…</td><td>{&quot;Viral sinusitis (disorder)&quot;,[{&quot;http://snomed.info/sct&quot;,&quot;Viral sinusitis (disorder)&quot;,[],&quot;444814009&quot;}],[]}</td><td>&quot;2014-07-21T20:…</td><td>&quot;2014-08-11T20:…</td><td>&quot;urn:uuid:b68bb…</td></tr><tr><td>&quot;a69b9d3f-4cde-…</td><td>{&quot;Normal pregnancy&quot;,[{&quot;http://snomed.info/sct&quot;,&quot;Normal pregnancy&quot;,[],&quot;72892002&quot;}],[]}</td><td>&quot;2018-02-06T19:…</td><td>&quot;2018-09-18T20:…</td><td>&quot;urn:uuid:b68bb…</td></tr><tr><td>&quot;93d5fc63-b12f-…</td><td>{&quot;Acute viral pharyngitis (disorder)&quot;,[{&quot;http://snomed.info/sct&quot;,&quot;Acute viral pharyngitis (disorder)&quot;,[],&quot;195662009&quot;}],[]}</td><td>&quot;2018-03-22T20:…</td><td>&quot;2018-04-03T20:…</td><td>&quot;urn:uuid:b68bb…</td></tr><tr><td>&quot;46527bfd-9159-…</td><td>{&quot;Viral sinusitis (disorder)&quot;,[{&quot;http://snomed.info/sct&quot;,&quot;Viral sinusitis (disorder)&quot;,[],&quot;444814009&quot;}],[]}</td><td>&quot;2019-02-24T19:…</td><td>&quot;2019-03-10T20:…</td><td>&quot;urn:uuid:b68bb…</td></tr><tr><td>&quot;ef6ad8db-50be-…</td><td>{&quot;Normal pregnancy&quot;,[{&quot;http://snomed.info/sct&quot;,&quot;Normal pregnancy&quot;,[],&quot;72892002&quot;}],[]}</td><td>&quot;2019-05-14T20:…</td><td>null</td><td>&quot;urn:uuid:b68bb…</td></tr></tbody></table></div>"
      ],
      "text/plain": [
       "shape: (76, 5)\n",
       "┌───────────────────┬───────────────────┬───────────────────┬───────────────────┬──────────────────┐\n",
       "│ id                ┆ code              ┆ onsetDateTime     ┆ abatementDateTime ┆ subject          │\n",
       "│ ---               ┆ ---               ┆ ---               ┆ ---               ┆ ---              │\n",
       "│ str               ┆ struct[3]         ┆ str               ┆ str               ┆ str              │\n",
       "╞═══════════════════╪═══════════════════╪═══════════════════╪═══════════════════╪══════════════════╡\n",
       "│ e35163ad-e206-48e ┆ {\"Hypertension\",[ ┆ 1964-06-19T08:31: ┆ null              ┆ urn:uuid:766a0f6 │\n",
       "│ 5-8881-a764bbb0…  ┆ {\"http://snomed…  ┆ 19-04:00          ┆                   ┆ 4-cfd6-4e40-b174 │\n",
       "│                   ┆                   ┆                   ┆                   ┆ …                │\n",
       "│ cd1ad77b-3505-455 ┆ {\"Prediabetes\",[{ ┆ 1980-07-11T08:31: ┆ null              ┆ urn:uuid:766a0f6 │\n",
       "│ b-a064-7953d69e…  ┆ \"http://snomed.…  ┆ 19-04:00          ┆                   ┆ 4-cfd6-4e40-b174 │\n",
       "│                   ┆                   ┆                   ┆                   ┆ …                │\n",
       "│ c862baa3-7348-47d ┆ {\"Anemia (disorde ┆ 1980-07-11T08:31: ┆ null              ┆ urn:uuid:766a0f6 │\n",
       "│ 4-996f-a0270f5b…  ┆ r)\",[{\"http://s…  ┆ 19-04:00          ┆                   ┆ 4-cfd6-4e40-b174 │\n",
       "│                   ┆                   ┆                   ┆                   ┆ …                │\n",
       "│ 98d39fd3-4cd0-401 ┆ {\"Miscarriage in  ┆ 1989-11-03T07:31: ┆ null              ┆ urn:uuid:766a0f6 │\n",
       "│ f-91ee-78ba08b7…  ┆ first trimester…  ┆ 19-05:00          ┆                   ┆ 4-cfd6-4e40-b174 │\n",
       "│                   ┆                   ┆                   ┆                   ┆ …                │\n",
       "│ …                 ┆ …                 ┆ …                 ┆ …                 ┆ …                │\n",
       "│ a69b9d3f-4cde-46a ┆ {\"Normal pregnanc ┆ 2018-02-06T19:24: ┆ 2018-09-18T20:24: ┆ urn:uuid:b68bb5e │\n",
       "│ a-ac19-0eb9e289…  ┆ y\",[{\"http://sn…  ┆ 42-05:00          ┆ 42-04:00          ┆ d-95b1-4ed1-9892 │\n",
       "│                   ┆                   ┆                   ┆                   ┆ …                │\n",
       "│ 93d5fc63-b12f-47a ┆ {\"Acute viral     ┆ 2018-03-22T20:24: ┆ 2018-04-03T20:24: ┆ urn:uuid:b68bb5e │\n",
       "│ 3-b8f6-7fbf0d7b…  ┆ pharyngitis       ┆ 42-04:00          ┆ 42-04:00          ┆ d-95b1-4ed1-9892 │\n",
       "│                   ┆ (disor…           ┆                   ┆                   ┆ …                │\n",
       "│ 46527bfd-9159-4d5 ┆ {\"Viral sinusitis ┆ 2019-02-24T19:24: ┆ 2019-03-10T20:24: ┆ urn:uuid:b68bb5e │\n",
       "│ 8-a0b1-a1b2804d…  ┆ (disorder)\",[{…   ┆ 42-05:00          ┆ 42-04:00          ┆ d-95b1-4ed1-9892 │\n",
       "│                   ┆                   ┆                   ┆                   ┆ …                │\n",
       "│ ef6ad8db-50be-49d ┆ {\"Normal pregnanc ┆ 2019-05-14T20:24: ┆ null              ┆ urn:uuid:b68bb5e │\n",
       "│ 0-823b-f5eb1a73…  ┆ y\",[{\"http://sn…  ┆ 42-04:00          ┆                   ┆ d-95b1-4ed1-9892 │\n",
       "│                   ┆                   ┆                   ┆                   ┆ …                │\n",
       "└───────────────────┴───────────────────┴───────────────────┴───────────────────┴──────────────────┘"
      ]
     },
     "execution_count": 15,
     "metadata": {},
     "output_type": "execute_result"
    }
   ],
   "source": [
    "df_conditions.select(\"id\", \"code\", \"onsetDateTime\", \"abatementDateTime\", subject=pl.col(\"subject\").struct[\"reference\"],)"
   ]
  },
  {
   "cell_type": "code",
   "execution_count": null,
   "metadata": {},
   "outputs": [
    {
     "data": {
      "text/html": [
       "<div><style>\n",
       ".dataframe > thead > tr > th,\n",
       ".dataframe > tbody > tr > td {\n",
       "  text-align: right;\n",
       "}\n",
       "</style>\n",
       "<small>shape: (76, 7)</small><table border=\"1\" class=\"dataframe\"><thead><tr><th>subject</th><th>code</th><th>onsetDateTime</th><th>abatementDateTime</th><th>encounter</th><th>clinicalStatus</th><th>verificationStatus</th></tr><tr><td>str</td><td>list[str]</td><td>str</td><td>str</td><td>str</td><td>str</td><td>str</td></tr></thead><tbody><tr><td>&quot;766a0f64-cfd6-…</td><td>[&quot;http://snomed.info/sct|59621000&quot;]</td><td>&quot;1964-06-19T08:…</td><td>null</td><td>&quot;0c8e8aa-5659-4…</td><td>&quot;active&quot;</td><td>&quot;confirmed&quot;</td></tr><tr><td>&quot;766a0f64-cfd6-…</td><td>[&quot;http://snomed.info/sct|15777000&quot;]</td><td>&quot;1980-07-11T08:…</td><td>null</td><td>&quot;bb2c950-bc65-4…</td><td>&quot;active&quot;</td><td>&quot;confirmed&quot;</td></tr><tr><td>&quot;766a0f64-cfd6-…</td><td>[&quot;http://snomed.info/sct|271737000&quot;]</td><td>&quot;1980-07-11T08:…</td><td>null</td><td>&quot;bb2c950-bc65-4…</td><td>&quot;active&quot;</td><td>&quot;confirmed&quot;</td></tr><tr><td>&quot;766a0f64-cfd6-…</td><td>[&quot;http://snomed.info/sct|19169002&quot;]</td><td>&quot;1989-11-03T07:…</td><td>null</td><td>&quot;3952e337-456b-…</td><td>&quot;active&quot;</td><td>&quot;confirmed&quot;</td></tr><tr><td>&quot;766a0f64-cfd6-…</td><td>[&quot;http://snomed.info/sct|239872002&quot;]</td><td>&quot;2000-04-12T08:…</td><td>null</td><td>&quot;ebef64c1-af40-…</td><td>&quot;active&quot;</td><td>&quot;confirmed&quot;</td></tr><tr><td>&quot;766a0f64-cfd6-…</td><td>[&quot;http://snomed.info/sct|444814009&quot;]</td><td>&quot;2012-05-08T08:…</td><td>&quot;2012-05-29T08:…</td><td>&quot;f4340cd6-5567-…</td><td>&quot;resolved&quot;</td><td>&quot;confirmed&quot;</td></tr><tr><td>&quot;766a0f64-cfd6-…</td><td>[&quot;http://snomed.info/sct|75498004&quot;]</td><td>&quot;2017-11-04T08:…</td><td>&quot;2017-12-30T07:…</td><td>&quot;46815444-f6ef-…</td><td>&quot;resolved&quot;</td><td>&quot;confirmed&quot;</td></tr><tr><td>&quot;766a0f64-cfd6-…</td><td>[&quot;http://snomed.info/sct|40055000&quot;]</td><td>&quot;2017-12-23T07:…</td><td>null</td><td>&quot;cf2f10ba-2786-…</td><td>&quot;active&quot;</td><td>&quot;confirmed&quot;</td></tr><tr><td>&quot;c749327f-e726-…</td><td>[&quot;http://snomed.info/sct|44465007&quot;]</td><td>&quot;2012-04-04T04:…</td><td>&quot;2012-04-25T04:…</td><td>&quot;5d517575-0ade-…</td><td>&quot;resolved&quot;</td><td>&quot;confirmed&quot;</td></tr><tr><td>&quot;c749327f-e726-…</td><td>[&quot;http://snomed.info/sct|58150001&quot;]</td><td>&quot;2013-05-20T04:…</td><td>&quot;2013-08-18T04:…</td><td>&quot;5dfe632f-c6b7-…</td><td>&quot;resolved&quot;</td><td>&quot;confirmed&quot;</td></tr><tr><td>&quot;c749327f-e726-…</td><td>[&quot;http://snomed.info/sct|65363002&quot;]</td><td>&quot;2013-06-28T04:…</td><td>&quot;2013-08-16T04:…</td><td>&quot;e458dc49-bcd7-…</td><td>&quot;resolved&quot;</td><td>&quot;confirmed&quot;</td></tr><tr><td>&quot;c749327f-e726-…</td><td>[&quot;http://snomed.info/sct|65363002&quot;]</td><td>&quot;2016-07-31T04:…</td><td>&quot;2017-02-24T03:…</td><td>&quot;6cf72b78-08ab-…</td><td>&quot;resolved&quot;</td><td>&quot;confirmed&quot;</td></tr><tr><td>&hellip;</td><td>&hellip;</td><td>&hellip;</td><td>&hellip;</td><td>&hellip;</td><td>&hellip;</td><td>&hellip;</td></tr><tr><td>&quot;15ff0f7a-48a3-…</td><td>[&quot;http://snomed.info/sct|65363002&quot;]</td><td>&quot;2015-01-23T20:…</td><td>&quot;2015-08-28T21:…</td><td>&quot;f0400321-42e1-…</td><td>&quot;resolved&quot;</td><td>&quot;confirmed&quot;</td></tr><tr><td>&quot;15ff0f7a-48a3-…</td><td>[&quot;http://snomed.info/sct|10509002&quot;]</td><td>&quot;2015-08-22T21:…</td><td>&quot;2015-08-29T21:…</td><td>&quot;9c1b0c39-1314-…</td><td>&quot;resolved&quot;</td><td>&quot;confirmed&quot;</td></tr><tr><td>&quot;b68bb5ed-95b1-…</td><td>[&quot;http://snomed.info/sct|10509002&quot;]</td><td>&quot;2010-01-12T19:…</td><td>&quot;2010-01-26T19:…</td><td>&quot;88c79452-9ac7-…</td><td>&quot;resolved&quot;</td><td>&quot;confirmed&quot;</td></tr><tr><td>&quot;b68bb5ed-95b1-…</td><td>[&quot;http://snomed.info/sct|195662009&quot;]</td><td>&quot;2010-12-21T19:…</td><td>&quot;2010-12-28T19:…</td><td>&quot;68691b61-0a85-…</td><td>&quot;resolved&quot;</td><td>&quot;confirmed&quot;</td></tr><tr><td>&quot;b68bb5ed-95b1-…</td><td>[&quot;http://snomed.info/sct|444814009&quot;]</td><td>&quot;2011-07-04T20:…</td><td>&quot;2011-07-18T20:…</td><td>&quot;3c57fceb-357a-…</td><td>&quot;resolved&quot;</td><td>&quot;confirmed&quot;</td></tr><tr><td>&quot;b68bb5ed-95b1-…</td><td>[&quot;http://snomed.info/sct|444814009&quot;]</td><td>&quot;2013-08-12T20:…</td><td>&quot;2013-09-02T20:…</td><td>&quot;88f051df-9d48-…</td><td>&quot;resolved&quot;</td><td>&quot;confirmed&quot;</td></tr><tr><td>&quot;b68bb5ed-95b1-…</td><td>[&quot;http://snomed.info/sct|444814009&quot;]</td><td>&quot;2014-05-08T20:…</td><td>&quot;2014-05-15T20:…</td><td>&quot;3b9691e-987b-4…</td><td>&quot;resolved&quot;</td><td>&quot;confirmed&quot;</td></tr><tr><td>&quot;b68bb5ed-95b1-…</td><td>[&quot;http://snomed.info/sct|444814009&quot;]</td><td>&quot;2014-07-21T20:…</td><td>&quot;2014-08-11T20:…</td><td>&quot;4156dca0-4cca-…</td><td>&quot;resolved&quot;</td><td>&quot;confirmed&quot;</td></tr><tr><td>&quot;b68bb5ed-95b1-…</td><td>[&quot;http://snomed.info/sct|72892002&quot;]</td><td>&quot;2018-02-06T19:…</td><td>&quot;2018-09-18T20:…</td><td>&quot;eca25204-4236-…</td><td>&quot;resolved&quot;</td><td>&quot;confirmed&quot;</td></tr><tr><td>&quot;b68bb5ed-95b1-…</td><td>[&quot;http://snomed.info/sct|195662009&quot;]</td><td>&quot;2018-03-22T20:…</td><td>&quot;2018-04-03T20:…</td><td>&quot;cb1dcfdc-1fc6-…</td><td>&quot;resolved&quot;</td><td>&quot;confirmed&quot;</td></tr><tr><td>&quot;b68bb5ed-95b1-…</td><td>[&quot;http://snomed.info/sct|444814009&quot;]</td><td>&quot;2019-02-24T19:…</td><td>&quot;2019-03-10T20:…</td><td>&quot;c5259bd5-5d55-…</td><td>&quot;resolved&quot;</td><td>&quot;confirmed&quot;</td></tr><tr><td>&quot;b68bb5ed-95b1-…</td><td>[&quot;http://snomed.info/sct|72892002&quot;]</td><td>&quot;2019-05-14T20:…</td><td>null</td><td>&quot;c690e593-7b2a-…</td><td>&quot;active&quot;</td><td>&quot;confirmed&quot;</td></tr></tbody></table></div>"
      ],
      "text/plain": [
       "shape: (76, 7)\n",
       "┌──────────────┬──────────────┬────────────┬────────────┬──────────────┬────────────┬──────────────┐\n",
       "│ subject      ┆ code         ┆ onsetDateT ┆ abatementD ┆ encounter    ┆ clinicalSt ┆ verification │\n",
       "│ ---          ┆ ---          ┆ ime        ┆ ateTime    ┆ ---          ┆ atus       ┆ Status       │\n",
       "│ str          ┆ list[str]    ┆ ---        ┆ ---        ┆ str          ┆ ---        ┆ ---          │\n",
       "│              ┆              ┆ str        ┆ str        ┆              ┆ str        ┆ str          │\n",
       "╞══════════════╪══════════════╪════════════╪════════════╪══════════════╪════════════╪══════════════╡\n",
       "│ 766a0f64-cfd ┆ [\"http://sno ┆ 1964-06-19 ┆ null       ┆ 0c8e8aa-5659 ┆ active     ┆ confirmed    │\n",
       "│ 6-4e40-b174- ┆ med.info/sct ┆ T08:31:19- ┆            ┆ -4930-894b-8 ┆            ┆              │\n",
       "│ 533bfed8…    ┆ |5962100…    ┆ 04:00      ┆            ┆ 803d880e…    ┆            ┆              │\n",
       "│ 766a0f64-cfd ┆ [\"http://sno ┆ 1980-07-11 ┆ null       ┆ bb2c950-bc65 ┆ active     ┆ confirmed    │\n",
       "│ 6-4e40-b174- ┆ med.info/sct ┆ T08:31:19- ┆            ┆ -4238-811c-6 ┆            ┆              │\n",
       "│ 533bfed8…    ┆ |1577700…    ┆ 04:00      ┆            ┆ 5a86d15a…    ┆            ┆              │\n",
       "│ 766a0f64-cfd ┆ [\"http://sno ┆ 1980-07-11 ┆ null       ┆ bb2c950-bc65 ┆ active     ┆ confirmed    │\n",
       "│ 6-4e40-b174- ┆ med.info/sct ┆ T08:31:19- ┆            ┆ -4238-811c-6 ┆            ┆              │\n",
       "│ 533bfed8…    ┆ |2717370…    ┆ 04:00      ┆            ┆ 5a86d15a…    ┆            ┆              │\n",
       "│ 766a0f64-cfd ┆ [\"http://sno ┆ 1989-11-03 ┆ null       ┆ 3952e337-456 ┆ active     ┆ confirmed    │\n",
       "│ 6-4e40-b174- ┆ med.info/sct ┆ T07:31:19- ┆            ┆ b-4b1e-9e17- ┆            ┆              │\n",
       "│ 533bfed8…    ┆ |1916900…    ┆ 05:00      ┆            ┆ 80dd33d0…    ┆            ┆              │\n",
       "│ …            ┆ …            ┆ …          ┆ …          ┆ …            ┆ …          ┆ …            │\n",
       "│ b68bb5ed-95b ┆ [\"http://sno ┆ 2018-02-06 ┆ 2018-09-18 ┆ eca25204-423 ┆ resolved   ┆ confirmed    │\n",
       "│ 1-4ed1-9892- ┆ med.info/sct ┆ T19:24:42- ┆ T20:24:42- ┆ 6-4e7e-a4f7- ┆            ┆              │\n",
       "│ c2640d9e…    ┆ |7289200…    ┆ 05:00      ┆ 04:00      ┆ ad81ab83…    ┆            ┆              │\n",
       "│ b68bb5ed-95b ┆ [\"http://sno ┆ 2018-03-22 ┆ 2018-04-03 ┆ cb1dcfdc-1fc ┆ resolved   ┆ confirmed    │\n",
       "│ 1-4ed1-9892- ┆ med.info/sct ┆ T20:24:42- ┆ T20:24:42- ┆ 6-4b38-a3b0- ┆            ┆              │\n",
       "│ c2640d9e…    ┆ |1956620…    ┆ 04:00      ┆ 04:00      ┆ 8b0b425e…    ┆            ┆              │\n",
       "│ b68bb5ed-95b ┆ [\"http://sno ┆ 2019-02-24 ┆ 2019-03-10 ┆ c5259bd5-5d5 ┆ resolved   ┆ confirmed    │\n",
       "│ 1-4ed1-9892- ┆ med.info/sct ┆ T19:24:42- ┆ T20:24:42- ┆ 5-492e-864b- ┆            ┆              │\n",
       "│ c2640d9e…    ┆ |4448140…    ┆ 05:00      ┆ 04:00      ┆ cdc5fdf5…    ┆            ┆              │\n",
       "│ b68bb5ed-95b ┆ [\"http://sno ┆ 2019-05-14 ┆ null       ┆ c690e593-7b2 ┆ active     ┆ confirmed    │\n",
       "│ 1-4ed1-9892- ┆ med.info/sct ┆ T20:24:42- ┆            ┆ a-445e-ab38- ┆            ┆              │\n",
       "│ c2640d9e…    ┆ |7289200…    ┆ 04:00      ┆            ┆ 7a59be5a…    ┆            ┆              │\n",
       "└──────────────┴──────────────┴────────────┴────────────┴──────────────┴────────────┴──────────────┘"
      ]
     },
     "execution_count": 19,
     "metadata": {},
     "output_type": "execute_result"
    }
   ],
   "source": [
    "# When doing analytics you want to flatten the data before you start\n",
    "# This is easy to do with polars though it does require some knowledge of the FHIR spec\n",
    "df_flattened = df_conditions.select(\n",
    "        subject=pl.col(\"subject\").struct[\"reference\"].str.strip(\"urn:uuid:\"),\n",
    "        code=pl.col(\"code\").struct[\"coding\"].list.eval(pl.element().struct[\"system\"]+\"|\"+pl.element().struct[\"code\"]),\n",
    "        onsetDateTime=pl.col(\"onsetDateTime\"),\n",
    "        abatementDateTime=pl.col(\"abatementDateTime\"),\n",
    "        encounter=pl.col(\"encounter\").struct[\"reference\"].str.strip(\"urn:uuid:\"),\n",
    "        clinicalStatus=pl.col(\"clinicalStatus\").struct[\"coding\"].list.first().struct[\"code\"],\n",
    "        verificationStatus=pl.col(\"verificationStatus\").struct[\"coding\"].list.first().struct[\"code\"],\n",
    ")\n",
    "df_flattened"
   ]
  },
  {
   "cell_type": "code",
   "execution_count": null,
   "metadata": {},
   "outputs": [
    {
     "data": {
      "text/html": [
       "<div><style>\n",
       ".dataframe > thead > tr > th,\n",
       ".dataframe > tbody > tr > td {\n",
       "  text-align: right;\n",
       "}\n",
       "</style>\n",
       "<small>shape: (70, 9)</small><table border=\"1\" class=\"dataframe\"><thead><tr><th>subject</th><th>code</th><th>onsetDateTime</th><th>abatementDateTime</th><th>encounter</th><th>clinicalStatus</th><th>verificationStatus</th><th>birthDate</th><th>name</th></tr><tr><td>str</td><td>list[str]</td><td>datetime[μs]</td><td>datetime[μs]</td><td>str</td><td>str</td><td>str</td><td>date</td><td>list[str]</td></tr></thead><tbody><tr><td>&quot;766a0f64-cfd6-…</td><td>[&quot;http://snomed.info/sct|59621000&quot;]</td><td>1964-06-19 12:31:19</td><td>null</td><td>&quot;0c8e8aa-5659-4…</td><td>&quot;active&quot;</td><td>&quot;confirmed&quot;</td><td>1946-04-26</td><td>[&quot;Robert854 Botsford977&quot;, &quot;Robert854 Ward668&quot;]</td></tr><tr><td>&quot;766a0f64-cfd6-…</td><td>[&quot;http://snomed.info/sct|15777000&quot;]</td><td>1980-07-11 12:31:19</td><td>null</td><td>&quot;bb2c950-bc65-4…</td><td>&quot;active&quot;</td><td>&quot;confirmed&quot;</td><td>1946-04-26</td><td>[&quot;Robert854 Botsford977&quot;, &quot;Robert854 Ward668&quot;]</td></tr><tr><td>&quot;766a0f64-cfd6-…</td><td>[&quot;http://snomed.info/sct|271737000&quot;]</td><td>1980-07-11 12:31:19</td><td>null</td><td>&quot;bb2c950-bc65-4…</td><td>&quot;active&quot;</td><td>&quot;confirmed&quot;</td><td>1946-04-26</td><td>[&quot;Robert854 Botsford977&quot;, &quot;Robert854 Ward668&quot;]</td></tr><tr><td>&quot;766a0f64-cfd6-…</td><td>[&quot;http://snomed.info/sct|19169002&quot;]</td><td>1989-11-03 12:31:19</td><td>null</td><td>&quot;3952e337-456b-…</td><td>&quot;active&quot;</td><td>&quot;confirmed&quot;</td><td>1946-04-26</td><td>[&quot;Robert854 Botsford977&quot;, &quot;Robert854 Ward668&quot;]</td></tr><tr><td>&quot;766a0f64-cfd6-…</td><td>[&quot;http://snomed.info/sct|239872002&quot;]</td><td>2000-04-12 12:31:19</td><td>null</td><td>&quot;ebef64c1-af40-…</td><td>&quot;active&quot;</td><td>&quot;confirmed&quot;</td><td>1946-04-26</td><td>[&quot;Robert854 Botsford977&quot;, &quot;Robert854 Ward668&quot;]</td></tr><tr><td>&quot;766a0f64-cfd6-…</td><td>[&quot;http://snomed.info/sct|444814009&quot;]</td><td>2012-05-08 12:31:19</td><td>2012-05-29 12:31:19</td><td>&quot;f4340cd6-5567-…</td><td>&quot;resolved&quot;</td><td>&quot;confirmed&quot;</td><td>1946-04-26</td><td>[&quot;Robert854 Botsford977&quot;, &quot;Robert854 Ward668&quot;]</td></tr><tr><td>&quot;766a0f64-cfd6-…</td><td>[&quot;http://snomed.info/sct|75498004&quot;]</td><td>2017-11-04 12:31:19</td><td>2017-12-30 12:31:19</td><td>&quot;46815444-f6ef-…</td><td>&quot;resolved&quot;</td><td>&quot;confirmed&quot;</td><td>1946-04-26</td><td>[&quot;Robert854 Botsford977&quot;, &quot;Robert854 Ward668&quot;]</td></tr><tr><td>&quot;766a0f64-cfd6-…</td><td>[&quot;http://snomed.info/sct|40055000&quot;]</td><td>2017-12-23 12:31:19</td><td>null</td><td>&quot;cf2f10ba-2786-…</td><td>&quot;active&quot;</td><td>&quot;confirmed&quot;</td><td>1946-04-26</td><td>[&quot;Robert854 Botsford977&quot;, &quot;Robert854 Ward668&quot;]</td></tr><tr><td>&quot;c749327f-e726-…</td><td>[&quot;http://snomed.info/sct|44465007&quot;]</td><td>2012-04-04 08:25:10</td><td>2012-04-25 08:25:10</td><td>&quot;5d517575-0ade-…</td><td>&quot;resolved&quot;</td><td>&quot;confirmed&quot;</td><td>2011-03-11</td><td>[&quot;Will178 Lang846&quot;]</td></tr><tr><td>&quot;c749327f-e726-…</td><td>[&quot;http://snomed.info/sct|58150001&quot;]</td><td>2013-05-20 08:25:10</td><td>2013-08-18 08:25:10</td><td>&quot;5dfe632f-c6b7-…</td><td>&quot;resolved&quot;</td><td>&quot;confirmed&quot;</td><td>2011-03-11</td><td>[&quot;Will178 Lang846&quot;]</td></tr><tr><td>&quot;c749327f-e726-…</td><td>[&quot;http://snomed.info/sct|65363002&quot;]</td><td>2013-06-28 08:25:10</td><td>2013-08-16 08:25:10</td><td>&quot;e458dc49-bcd7-…</td><td>&quot;resolved&quot;</td><td>&quot;confirmed&quot;</td><td>2011-03-11</td><td>[&quot;Will178 Lang846&quot;]</td></tr><tr><td>&quot;c749327f-e726-…</td><td>[&quot;http://snomed.info/sct|65363002&quot;]</td><td>2016-07-31 08:25:10</td><td>2017-02-24 08:25:10</td><td>&quot;6cf72b78-08ab-…</td><td>&quot;resolved&quot;</td><td>&quot;confirmed&quot;</td><td>2011-03-11</td><td>[&quot;Will178 Lang846&quot;]</td></tr><tr><td>&hellip;</td><td>&hellip;</td><td>&hellip;</td><td>&hellip;</td><td>&hellip;</td><td>&hellip;</td><td>&hellip;</td><td>&hellip;</td><td>&hellip;</td></tr><tr><td>&quot;496593fe-85f9-…</td><td>[&quot;http://snomed.info/sct|254637007&quot;]</td><td>1977-07-18 11:45:35</td><td>null</td><td>&quot;056ccd80-6ec9-…</td><td>&quot;active&quot;</td><td>&quot;confirmed&quot;</td><td>1911-04-08</td><td>[&quot;Harrison106 Schuster709&quot;]</td></tr><tr><td>&quot;496593fe-85f9-…</td><td>[&quot;http://snomed.info/sct|424132000&quot;]</td><td>1977-07-20 11:45:35</td><td>null</td><td>&quot;e32778ee-ecc1-…</td><td>&quot;active&quot;</td><td>&quot;confirmed&quot;</td><td>1911-04-08</td><td>[&quot;Harrison106 Schuster709&quot;]</td></tr><tr><td>&quot;b68bb5ed-95b1-…</td><td>[&quot;http://snomed.info/sct|10509002&quot;]</td><td>2010-01-13 00:24:42</td><td>2010-01-27 00:24:42</td><td>&quot;88c79452-9ac7-…</td><td>&quot;resolved&quot;</td><td>&quot;confirmed&quot;</td><td>1993-09-07</td><td>[&quot;Cheryl605 Schuppe920&quot;]</td></tr><tr><td>&quot;b68bb5ed-95b1-…</td><td>[&quot;http://snomed.info/sct|195662009&quot;]</td><td>2010-12-22 00:24:42</td><td>2010-12-29 00:24:42</td><td>&quot;68691b61-0a85-…</td><td>&quot;resolved&quot;</td><td>&quot;confirmed&quot;</td><td>1993-09-07</td><td>[&quot;Cheryl605 Schuppe920&quot;]</td></tr><tr><td>&quot;b68bb5ed-95b1-…</td><td>[&quot;http://snomed.info/sct|444814009&quot;]</td><td>2011-07-05 00:24:42</td><td>2011-07-19 00:24:42</td><td>&quot;3c57fceb-357a-…</td><td>&quot;resolved&quot;</td><td>&quot;confirmed&quot;</td><td>1993-09-07</td><td>[&quot;Cheryl605 Schuppe920&quot;]</td></tr><tr><td>&quot;b68bb5ed-95b1-…</td><td>[&quot;http://snomed.info/sct|444814009&quot;]</td><td>2013-08-13 00:24:42</td><td>2013-09-03 00:24:42</td><td>&quot;88f051df-9d48-…</td><td>&quot;resolved&quot;</td><td>&quot;confirmed&quot;</td><td>1993-09-07</td><td>[&quot;Cheryl605 Schuppe920&quot;]</td></tr><tr><td>&quot;b68bb5ed-95b1-…</td><td>[&quot;http://snomed.info/sct|444814009&quot;]</td><td>2014-05-09 00:24:42</td><td>2014-05-16 00:24:42</td><td>&quot;3b9691e-987b-4…</td><td>&quot;resolved&quot;</td><td>&quot;confirmed&quot;</td><td>1993-09-07</td><td>[&quot;Cheryl605 Schuppe920&quot;]</td></tr><tr><td>&quot;b68bb5ed-95b1-…</td><td>[&quot;http://snomed.info/sct|444814009&quot;]</td><td>2014-07-22 00:24:42</td><td>2014-08-12 00:24:42</td><td>&quot;4156dca0-4cca-…</td><td>&quot;resolved&quot;</td><td>&quot;confirmed&quot;</td><td>1993-09-07</td><td>[&quot;Cheryl605 Schuppe920&quot;]</td></tr><tr><td>&quot;b68bb5ed-95b1-…</td><td>[&quot;http://snomed.info/sct|72892002&quot;]</td><td>2018-02-07 00:24:42</td><td>2018-09-19 00:24:42</td><td>&quot;eca25204-4236-…</td><td>&quot;resolved&quot;</td><td>&quot;confirmed&quot;</td><td>1993-09-07</td><td>[&quot;Cheryl605 Schuppe920&quot;]</td></tr><tr><td>&quot;b68bb5ed-95b1-…</td><td>[&quot;http://snomed.info/sct|195662009&quot;]</td><td>2018-03-23 00:24:42</td><td>2018-04-04 00:24:42</td><td>&quot;cb1dcfdc-1fc6-…</td><td>&quot;resolved&quot;</td><td>&quot;confirmed&quot;</td><td>1993-09-07</td><td>[&quot;Cheryl605 Schuppe920&quot;]</td></tr><tr><td>&quot;b68bb5ed-95b1-…</td><td>[&quot;http://snomed.info/sct|444814009&quot;]</td><td>2019-02-25 00:24:42</td><td>2019-03-11 00:24:42</td><td>&quot;c5259bd5-5d55-…</td><td>&quot;resolved&quot;</td><td>&quot;confirmed&quot;</td><td>1993-09-07</td><td>[&quot;Cheryl605 Schuppe920&quot;]</td></tr><tr><td>&quot;b68bb5ed-95b1-…</td><td>[&quot;http://snomed.info/sct|72892002&quot;]</td><td>2019-05-15 00:24:42</td><td>null</td><td>&quot;c690e593-7b2a-…</td><td>&quot;active&quot;</td><td>&quot;confirmed&quot;</td><td>1993-09-07</td><td>[&quot;Cheryl605 Schuppe920&quot;]</td></tr></tbody></table></div>"
      ],
      "text/plain": [
       "shape: (70, 9)\n",
       "┌──────────┬──────────┬────────────┬────────────┬───┬────────────┬────────────┬─────────┬──────────┐\n",
       "│ subject  ┆ code     ┆ onsetDateT ┆ abatementD ┆ … ┆ clinicalSt ┆ verificati ┆ birthDa ┆ name     │\n",
       "│ ---      ┆ ---      ┆ ime        ┆ ateTime    ┆   ┆ atus       ┆ onStatus   ┆ te      ┆ ---      │\n",
       "│ str      ┆ list[str ┆ ---        ┆ ---        ┆   ┆ ---        ┆ ---        ┆ ---     ┆ list[str │\n",
       "│          ┆ ]        ┆ datetime[μ ┆ datetime[μ ┆   ┆ str        ┆ str        ┆ date    ┆ ]        │\n",
       "│          ┆          ┆ s]         ┆ s]         ┆   ┆            ┆            ┆         ┆          │\n",
       "╞══════════╪══════════╪════════════╪════════════╪═══╪════════════╪════════════╪═════════╪══════════╡\n",
       "│ 766a0f64 ┆ [\"http:/ ┆ 1964-06-19 ┆ null       ┆ … ┆ active     ┆ confirmed  ┆ 1946-04 ┆ [\"Robert │\n",
       "│ -cfd6-4e ┆ /snomed. ┆ 12:31:19   ┆            ┆   ┆            ┆            ┆ -26     ┆ 854 Bots │\n",
       "│ 40-b174- ┆ info/sct ┆            ┆            ┆   ┆            ┆            ┆         ┆ ford977\" │\n",
       "│ 533bfed8 ┆ |5962100 ┆            ┆            ┆   ┆            ┆            ┆         ┆ ,        │\n",
       "│ …        ┆ …        ┆            ┆            ┆   ┆            ┆            ┆         ┆ \"Rober…  │\n",
       "│ 766a0f64 ┆ [\"http:/ ┆ 1980-07-11 ┆ null       ┆ … ┆ active     ┆ confirmed  ┆ 1946-04 ┆ [\"Robert │\n",
       "│ -cfd6-4e ┆ /snomed. ┆ 12:31:19   ┆            ┆   ┆            ┆            ┆ -26     ┆ 854 Bots │\n",
       "│ 40-b174- ┆ info/sct ┆            ┆            ┆   ┆            ┆            ┆         ┆ ford977\" │\n",
       "│ 533bfed8 ┆ |1577700 ┆            ┆            ┆   ┆            ┆            ┆         ┆ ,        │\n",
       "│ …        ┆ …        ┆            ┆            ┆   ┆            ┆            ┆         ┆ \"Rober…  │\n",
       "│ 766a0f64 ┆ [\"http:/ ┆ 1980-07-11 ┆ null       ┆ … ┆ active     ┆ confirmed  ┆ 1946-04 ┆ [\"Robert │\n",
       "│ -cfd6-4e ┆ /snomed. ┆ 12:31:19   ┆            ┆   ┆            ┆            ┆ -26     ┆ 854 Bots │\n",
       "│ 40-b174- ┆ info/sct ┆            ┆            ┆   ┆            ┆            ┆         ┆ ford977\" │\n",
       "│ 533bfed8 ┆ |2717370 ┆            ┆            ┆   ┆            ┆            ┆         ┆ ,        │\n",
       "│ …        ┆ …        ┆            ┆            ┆   ┆            ┆            ┆         ┆ \"Rober…  │\n",
       "│ 766a0f64 ┆ [\"http:/ ┆ 1989-11-03 ┆ null       ┆ … ┆ active     ┆ confirmed  ┆ 1946-04 ┆ [\"Robert │\n",
       "│ -cfd6-4e ┆ /snomed. ┆ 12:31:19   ┆            ┆   ┆            ┆            ┆ -26     ┆ 854 Bots │\n",
       "│ 40-b174- ┆ info/sct ┆            ┆            ┆   ┆            ┆            ┆         ┆ ford977\" │\n",
       "│ 533bfed8 ┆ |1916900 ┆            ┆            ┆   ┆            ┆            ┆         ┆ ,        │\n",
       "│ …        ┆ …        ┆            ┆            ┆   ┆            ┆            ┆         ┆ \"Rober…  │\n",
       "│ …        ┆ …        ┆ …          ┆ …          ┆ … ┆ …          ┆ …          ┆ …       ┆ …        │\n",
       "│ b68bb5ed ┆ [\"http:/ ┆ 2018-02-07 ┆ 2018-09-19 ┆ … ┆ resolved   ┆ confirmed  ┆ 1993-09 ┆ [\"Cheryl │\n",
       "│ -95b1-4e ┆ /snomed. ┆ 00:24:42   ┆ 00:24:42   ┆   ┆            ┆            ┆ -07     ┆ 605 Schu │\n",
       "│ d1-9892- ┆ info/sct ┆            ┆            ┆   ┆            ┆            ┆         ┆ ppe920\"] │\n",
       "│ c2640d9e ┆ |7289200 ┆            ┆            ┆   ┆            ┆            ┆         ┆          │\n",
       "│ …        ┆ …        ┆            ┆            ┆   ┆            ┆            ┆         ┆          │\n",
       "│ b68bb5ed ┆ [\"http:/ ┆ 2018-03-23 ┆ 2018-04-04 ┆ … ┆ resolved   ┆ confirmed  ┆ 1993-09 ┆ [\"Cheryl │\n",
       "│ -95b1-4e ┆ /snomed. ┆ 00:24:42   ┆ 00:24:42   ┆   ┆            ┆            ┆ -07     ┆ 605 Schu │\n",
       "│ d1-9892- ┆ info/sct ┆            ┆            ┆   ┆            ┆            ┆         ┆ ppe920\"] │\n",
       "│ c2640d9e ┆ |1956620 ┆            ┆            ┆   ┆            ┆            ┆         ┆          │\n",
       "│ …        ┆ …        ┆            ┆            ┆   ┆            ┆            ┆         ┆          │\n",
       "│ b68bb5ed ┆ [\"http:/ ┆ 2019-02-25 ┆ 2019-03-11 ┆ … ┆ resolved   ┆ confirmed  ┆ 1993-09 ┆ [\"Cheryl │\n",
       "│ -95b1-4e ┆ /snomed. ┆ 00:24:42   ┆ 00:24:42   ┆   ┆            ┆            ┆ -07     ┆ 605 Schu │\n",
       "│ d1-9892- ┆ info/sct ┆            ┆            ┆   ┆            ┆            ┆         ┆ ppe920\"] │\n",
       "│ c2640d9e ┆ |4448140 ┆            ┆            ┆   ┆            ┆            ┆         ┆          │\n",
       "│ …        ┆ …        ┆            ┆            ┆   ┆            ┆            ┆         ┆          │\n",
       "│ b68bb5ed ┆ [\"http:/ ┆ 2019-05-15 ┆ null       ┆ … ┆ active     ┆ confirmed  ┆ 1993-09 ┆ [\"Cheryl │\n",
       "│ -95b1-4e ┆ /snomed. ┆ 00:24:42   ┆            ┆   ┆            ┆            ┆ -07     ┆ 605 Schu │\n",
       "│ d1-9892- ┆ info/sct ┆            ┆            ┆   ┆            ┆            ┆         ┆ ppe920\"] │\n",
       "│ c2640d9e ┆ |7289200 ┆            ┆            ┆   ┆            ┆            ┆         ┆          │\n",
       "│ …        ┆ …        ┆            ┆            ┆   ┆            ┆            ┆         ┆          │\n",
       "└──────────┴──────────┴────────────┴────────────┴───┴────────────┴────────────┴─────────┴──────────┘"
      ]
     },
     "execution_count": 112,
     "metadata": {},
     "output_type": "execute_result"
    }
   ],
   "source": [
    "# Now we can join the flattened conditions with the patients\n",
    "df_flattened_with_subject = df_flattened.join(\n",
    "                    df_patients.select(\"id\", \"birthDate\", name=pl.col(\"name\").list.eval(pl.element().struct[\"given\"].list.first()+\" \"+pl.element().struct[\"family\"])),\n",
    "                   left_on=pl.col(\"subject\"), \n",
    "                   right_on=pl.col(\"id\"), \n",
    "                   how=\"inner\")\n",
    "df_flattened_with_subject"
   ]
  },
  {
   "cell_type": "code",
   "execution_count": null,
   "metadata": {},
   "outputs": [
    {
     "data": {
      "text/html": [
       "<div><style>\n",
       ".dataframe > thead > tr > th,\n",
       ".dataframe > tbody > tr > td {\n",
       "  text-align: right;\n",
       "}\n",
       "</style>\n",
       "<small>shape: (39, 2)</small><table border=\"1\" class=\"dataframe\"><thead><tr><th>coding</th><th>counts</th></tr><tr><td>str</td><td>u32</td></tr></thead><tbody><tr><td>&quot;http://snomed.…</td><td>1</td></tr><tr><td>&quot;http://snomed.…</td><td>2</td></tr><tr><td>&quot;http://snomed.…</td><td>1</td></tr><tr><td>&quot;http://snomed.…</td><td>3</td></tr><tr><td>&quot;http://snomed.…</td><td>8</td></tr><tr><td>&quot;http://snomed.…</td><td>1</td></tr><tr><td>&quot;http://snomed.…</td><td>2</td></tr><tr><td>&quot;http://snomed.…</td><td>3</td></tr><tr><td>&quot;http://snomed.…</td><td>1</td></tr><tr><td>&quot;http://snomed.…</td><td>1</td></tr><tr><td>&quot;http://snomed.…</td><td>4</td></tr><tr><td>&quot;http://snomed.…</td><td>3</td></tr><tr><td>&hellip;</td><td>&hellip;</td></tr><tr><td>&quot;http://snomed.…</td><td>1</td></tr><tr><td>&quot;http://snomed.…</td><td>3</td></tr><tr><td>&quot;http://snomed.…</td><td>2</td></tr><tr><td>&quot;http://snomed.…</td><td>1</td></tr><tr><td>&quot;http://snomed.…</td><td>1</td></tr><tr><td>&quot;http://snomed.…</td><td>1</td></tr><tr><td>&quot;http://snomed.…</td><td>2</td></tr><tr><td>&quot;http://snomed.…</td><td>1</td></tr><tr><td>&quot;http://snomed.…</td><td>2</td></tr><tr><td>&quot;http://snomed.…</td><td>2</td></tr><tr><td>&quot;http://snomed.…</td><td>1</td></tr><tr><td>&quot;http://snomed.…</td><td>1</td></tr></tbody></table></div>"
      ],
      "text/plain": [
       "shape: (39, 2)\n",
       "┌──────────────────────────────────┬────────┐\n",
       "│ coding                           ┆ counts │\n",
       "│ ---                              ┆ ---    │\n",
       "│ str                              ┆ u32    │\n",
       "╞══════════════════════════════════╪════════╡\n",
       "│ http://snomed.info/sct|424132000 ┆ 1      │\n",
       "│ http://snomed.info/sct|44054006  ┆ 2      │\n",
       "│ http://snomed.info/sct|410429000 ┆ 1      │\n",
       "│ http://snomed.info/sct|65363002  ┆ 3      │\n",
       "│ …                                ┆ …      │\n",
       "│ http://snomed.info/sct|40055000  ┆ 2      │\n",
       "│ http://snomed.info/sct|59621000  ┆ 2      │\n",
       "│ http://snomed.info/sct|43878008  ┆ 1      │\n",
       "│ http://snomed.info/sct|80394007  ┆ 1      │\n",
       "└──────────────────────────────────┴────────┘"
      ]
     },
     "execution_count": 83,
     "metadata": {},
     "output_type": "execute_result"
    }
   ],
   "source": [
    "df_flattened_with_subject.get_column(\"code\").explode().value_counts().to_dict()"
   ]
  },
  {
   "cell_type": "code",
   "execution_count": 86,
   "metadata": {},
   "outputs": [
    {
     "data": {
      "text/html": [
       "<div><style>\n",
       ".dataframe > thead > tr > th,\n",
       ".dataframe > tbody > tr > td {\n",
       "  text-align: right;\n",
       "}\n",
       "</style>\n",
       "<small>shape: (3, 20)</small><table border=\"1\" class=\"dataframe\"><thead><tr><th>resourceType</th><th>id</th><th>note</th><th>stage</th><th>subject</th><th>category</th><th>bodySite</th><th>onsetDateTime</th><th>evidence</th><th>contained</th><th>extension</th><th>encounter</th><th>identifier</th><th>recordedDate</th><th>clinicalStatus</th><th>modifierExtension</th><th>verificationStatus</th><th>code</th><th>abatementDateTime</th><th>coding</th></tr><tr><td>str</td><td>str</td><td>list[null]</td><td>list[null]</td><td>struct[2]</td><td>list[null]</td><td>list[null]</td><td>datetime[μs]</td><td>list[null]</td><td>list[null]</td><td>list[null]</td><td>struct[2]</td><td>list[null]</td><td>datetime[μs]</td><td>struct[2]</td><td>list[null]</td><td>struct[2]</td><td>struct[3]</td><td>datetime[μs]</td><td>list[str]</td></tr></thead><tbody><tr><td>&quot;Condition&quot;</td><td>&quot;3536a438-17e8-…</td><td>[]</td><td>[]</td><td>{[],&quot;urn:uuid:c749327f-e726-4100-9b54-e5159a8ec184&quot;}</td><td>[]</td><td>[]</td><td>2013-06-28 08:25:10</td><td>[]</td><td>[]</td><td>[]</td><td>{[],&quot;urn:uuid:e458dc49-bcd7-4854-80c5-483f36848f75&quot;}</td><td>[]</td><td>2013-06-28 08:25:10</td><td>{[{&quot;http://terminology.hl7.org/CodeSystem/condition-clinical&quot;,[],&quot;resolved&quot;}],[]}</td><td>[]</td><td>{[{&quot;http://terminology.hl7.org/CodeSystem/condition-ver-status&quot;,[],&quot;confirmed&quot;}],[]}</td><td>{&quot;Otitis media&quot;,[{&quot;http://snomed.info/sct&quot;,&quot;Otitis media&quot;,[],&quot;65363002&quot;}],[]}</td><td>2013-08-16 08:25:10</td><td>[&quot;http://snomed.info/sct|65363002&quot;]</td></tr><tr><td>&quot;Condition&quot;</td><td>&quot;9638a7c4-f30f-…</td><td>[]</td><td>[]</td><td>{[],&quot;urn:uuid:c749327f-e726-4100-9b54-e5159a8ec184&quot;}</td><td>[]</td><td>[]</td><td>2016-07-31 08:25:10</td><td>[]</td><td>[]</td><td>[]</td><td>{[],&quot;urn:uuid:6cf72b78-08ab-41bf-9895-fe2131edac73&quot;}</td><td>[]</td><td>2016-07-31 08:25:10</td><td>{[{&quot;http://terminology.hl7.org/CodeSystem/condition-clinical&quot;,[],&quot;resolved&quot;}],[]}</td><td>[]</td><td>{[{&quot;http://terminology.hl7.org/CodeSystem/condition-ver-status&quot;,[],&quot;confirmed&quot;}],[]}</td><td>{&quot;Otitis media&quot;,[{&quot;http://snomed.info/sct&quot;,&quot;Otitis media&quot;,[],&quot;65363002&quot;}],[]}</td><td>2017-02-24 08:25:10</td><td>[&quot;http://snomed.info/sct|65363002&quot;]</td></tr><tr><td>&quot;Condition&quot;</td><td>&quot;4d02a6d9-1879-…</td><td>[]</td><td>[]</td><td>{[],&quot;urn:uuid:15ff0f7a-48a3-40f3-86fa-cf89a31c69fd&quot;}</td><td>[]</td><td>[]</td><td>2015-01-24 01:16:55</td><td>[]</td><td>[]</td><td>[]</td><td>{[],&quot;urn:uuid:f0400321-42e1-4536-ae3c-aa948fda3167&quot;}</td><td>[]</td><td>2015-01-24 01:16:55</td><td>{[{&quot;http://terminology.hl7.org/CodeSystem/condition-clinical&quot;,[],&quot;resolved&quot;}],[]}</td><td>[]</td><td>{[{&quot;http://terminology.hl7.org/CodeSystem/condition-ver-status&quot;,[],&quot;confirmed&quot;}],[]}</td><td>{&quot;Otitis media&quot;,[{&quot;http://snomed.info/sct&quot;,&quot;Otitis media&quot;,[],&quot;65363002&quot;}],[]}</td><td>2015-08-29 01:16:55</td><td>[&quot;http://snomed.info/sct|65363002&quot;]</td></tr></tbody></table></div>"
      ],
      "text/plain": [
       "shape: (3, 20)\n",
       "┌────────────┬───────────┬──────────┬──────────┬───┬────────────┬──────────┬────────────┬──────────┐\n",
       "│ resourceTy ┆ id        ┆ note     ┆ stage    ┆ … ┆ verificati ┆ code     ┆ abatementD ┆ coding   │\n",
       "│ pe         ┆ ---       ┆ ---      ┆ ---      ┆   ┆ onStatus   ┆ ---      ┆ ateTime    ┆ ---      │\n",
       "│ ---        ┆ str       ┆ list[nul ┆ list[nul ┆   ┆ ---        ┆ struct[3 ┆ ---        ┆ list[str │\n",
       "│ str        ┆           ┆ l]       ┆ l]       ┆   ┆ struct[2]  ┆ ]        ┆ datetime[μ ┆ ]        │\n",
       "│            ┆           ┆          ┆          ┆   ┆            ┆          ┆ s]         ┆          │\n",
       "╞════════════╪═══════════╪══════════╪══════════╪═══╪════════════╪══════════╪════════════╪══════════╡\n",
       "│ Condition  ┆ 3536a438- ┆ []       ┆ []       ┆ … ┆ {[{\"http:/ ┆ {\"Otitis ┆ 2013-08-16 ┆ [\"http:/ │\n",
       "│            ┆ 17e8-4784 ┆          ┆          ┆   ┆ /terminolo ┆ media\",[ ┆ 08:25:10   ┆ /snomed. │\n",
       "│            ┆ -9c70-441 ┆          ┆          ┆   ┆ gy.hl7.org ┆ {\"http:/ ┆            ┆ info/sct │\n",
       "│            ┆ 95eb9…    ┆          ┆          ┆   ┆ /C…        ┆ /snomed… ┆            ┆ |6536300 │\n",
       "│            ┆           ┆          ┆          ┆   ┆            ┆          ┆            ┆ …        │\n",
       "│ Condition  ┆ 9638a7c4- ┆ []       ┆ []       ┆ … ┆ {[{\"http:/ ┆ {\"Otitis ┆ 2017-02-24 ┆ [\"http:/ │\n",
       "│            ┆ f30f-4791 ┆          ┆          ┆   ┆ /terminolo ┆ media\",[ ┆ 08:25:10   ┆ /snomed. │\n",
       "│            ┆ -ba9c-823 ┆          ┆          ┆   ┆ gy.hl7.org ┆ {\"http:/ ┆            ┆ info/sct │\n",
       "│            ┆ ae7b8…    ┆          ┆          ┆   ┆ /C…        ┆ /snomed… ┆            ┆ |6536300 │\n",
       "│            ┆           ┆          ┆          ┆   ┆            ┆          ┆            ┆ …        │\n",
       "│ Condition  ┆ 4d02a6d9- ┆ []       ┆ []       ┆ … ┆ {[{\"http:/ ┆ {\"Otitis ┆ 2015-08-29 ┆ [\"http:/ │\n",
       "│            ┆ 1879-42ee ┆          ┆          ┆   ┆ /terminolo ┆ media\",[ ┆ 01:16:55   ┆ /snomed. │\n",
       "│            ┆ -8133-88e ┆          ┆          ┆   ┆ gy.hl7.org ┆ {\"http:/ ┆            ┆ info/sct │\n",
       "│            ┆ 58655…    ┆          ┆          ┆   ┆ /C…        ┆ /snomed… ┆            ┆ |6536300 │\n",
       "│            ┆           ┆          ┆          ┆   ┆            ┆          ┆            ┆ …        │\n",
       "└────────────┴───────────┴──────────┴──────────┴───┴────────────┴──────────┴────────────┴──────────┘"
      ]
     },
     "execution_count": 86,
     "metadata": {},
     "output_type": "execute_result"
    }
   ],
   "source": [
    "df_conditions_with_code_tokens.filter(pl.col(\"coding\").list.contains(\"http://snomed.info/sct|65363002\"))"
   ]
  },
  {
   "cell_type": "code",
   "execution_count": null,
   "metadata": {},
   "outputs": [],
   "source": []
  }
 ],
 "metadata": {
  "kernelspec": {
   "display_name": ".venv",
   "language": "python",
   "name": "python3"
  },
  "language_info": {
   "codemirror_mode": {
    "name": "ipython",
    "version": 3
   },
   "file_extension": ".py",
   "mimetype": "text/x-python",
   "name": "python",
   "nbconvert_exporter": "python",
   "pygments_lexer": "ipython3",
   "version": "3.11.3"
  },
  "orig_nbformat": 4
 },
 "nbformat": 4,
 "nbformat_minor": 2
}
