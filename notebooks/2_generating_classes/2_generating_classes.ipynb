{
 "cells": [
  {
   "attachments": {},
   "cell_type": "markdown",
   "metadata": {},
   "source": [
    "Now let's generate our own set of Pydantic models of a different FHIR version."
   ]
  },
  {
   "cell_type": "code",
   "execution_count": 1,
   "metadata": {},
   "outputs": [
    {
     "name": "stdout",
     "output_type": "stream",
     "text": [
      "  % Total    % Received % Xferd  Average Speed   Time    Time     Time  Current\n",
      "                                 Dload  Upload   Total   Spent    Left  Speed\n",
      "100 5895k  100 5895k    0     0   649k      0  0:00:09  0:00:09 --:--:--  925k\n",
      "definitions.json.zip: OK\n",
      "Archive:  definitions.json.zip\n",
      "  inflating: definitions.json/profiles-types.json  \n",
      "  inflating: definitions.json/profiles-resources.json  \n",
      "definitions.json/profiles-types.json -> fhir.r4b.types.json\n",
      "definitions.json/profiles-resources.json -> fhir.r4b.resources.json\n"
     ]
    }
   ],
   "source": [
    "# download the Bundle of R4B StructureDefinitions\n",
    "!cd spec && ./download_spec_bundle.sh"
   ]
  },
  {
   "cell_type": "code",
   "execution_count": 3,
   "metadata": {},
   "outputs": [],
   "source": [
    "# generate the pydantic classes based on the StructureDefinitions\n",
    "!typegen --from-bundles spec/fhir.r4b.types.json --from-bundles spec/fhir.r4b.resources.json --out r4b.py"
   ]
  },
  {
   "cell_type": "code",
   "execution_count": 3,
   "metadata": {},
   "outputs": [
    {
     "data": {
      "text/plain": [
       "Reference(id=None, type=None, display='P. van de Heuvel', extension=[], reference='Patient/f001', identifier=None)"
      ]
     },
     "execution_count": 3,
     "metadata": {},
     "output_type": "execute_result"
    }
   ],
   "source": [
    "# evaluate the generated classes\n",
    "from r4b import Condition\n",
    "c = Condition.parse_file(\"./Condition.r4b.json\")\n",
    "c.asserter"
   ]
  },
  {
   "cell_type": "code",
   "execution_count": 4,
   "metadata": {},
   "outputs": [
    {
     "name": "stdout",
     "output_type": "stream",
     "text": [
      "  % Total    % Received % Xferd  Average Speed   Time    Time     Time  Current\n",
      "                                 Dload  Upload   Total   Spent    Left  Speed\n",
      "100 6887k  100 6887k    0     0   636k      0  0:00:10  0:00:10 --:--:--  932k29k      0  0:00:20  0:00:05  0:00:15  352k\n",
      "definitions.json.zip: OK\n",
      "Archive:  definitions.json.zip\n",
      "  inflating: profiles-types.json     \n",
      "  inflating: profiles-resources.json  \n",
      "profiles-types.json -> fhir.r5.types.json\n",
      "profiles-resources.json -> fhir.r5.resources.json\n"
     ]
    }
   ],
   "source": [
    "# download the Bundle of R5 StructureDefinitions\n",
    "!cd spec && ./download_spec_bundle.sh r5"
   ]
  },
  {
   "cell_type": "code",
   "execution_count": 4,
   "metadata": {},
   "outputs": [],
   "source": [
    "# generate the pydantic classes based on the StructureDefinitions\n",
    "!typegen --from-bundles spec/fhir.r5.types.json --from-bundles spec/fhir.r5.resources.json --out r5.py"
   ]
  },
  {
   "cell_type": "code",
   "execution_count": 5,
   "metadata": {},
   "outputs": [
    {
     "ename": "AttributeError",
     "evalue": "'Condition' object has no attribute 'asserter'",
     "output_type": "error",
     "traceback": [
      "\u001b[0;31m---------------------------------------------------------------------------\u001b[0m",
      "\u001b[0;31mAttributeError\u001b[0m                            Traceback (most recent call last)",
      "Cell \u001b[0;32mIn[5], line 3\u001b[0m\n\u001b[1;32m      1\u001b[0m \u001b[39mfrom\u001b[39;00m \u001b[39mr5\u001b[39;00m \u001b[39mimport\u001b[39;00m Condition\n\u001b[1;32m      2\u001b[0m c \u001b[39m=\u001b[39m Condition\u001b[39m.\u001b[39mparse_file(\u001b[39m\"\u001b[39m\u001b[39m./Condition.r5.json\u001b[39m\u001b[39m\"\u001b[39m)\n\u001b[0;32m----> 3\u001b[0m c\u001b[39m.\u001b[39;49masserter \u001b[39m# this will fail because asserter is not in the R5 Condition profile\u001b[39;00m\n",
      "\u001b[0;31mAttributeError\u001b[0m: 'Condition' object has no attribute 'asserter'"
     ]
    }
   ],
   "source": [
    "from r5 import Condition\n",
    "c = Condition.parse_file(\"./Condition.r5.json\")\n",
    "c.asserter # this will fail because asserter is not in the R5 Condition profile"
   ]
  },
  {
   "cell_type": "code",
   "execution_count": 7,
   "metadata": {},
   "outputs": [
    {
     "data": {
      "text/plain": [
       "[ConditionParticipant(id=None, actor=Reference(id=None, type=None, display='P. van de Heuvel', extension=[], reference='Patient/f001', identifier=None), function=CodeableConcept(id=None, text=None, coding=[Coding(id=None, system='http://terminology.hl7.org/CodeSystem/provenance-participant-type', version=None, display='Informant', extension=[], userSelected=None, code='informant')], extension=[]), extension=[], modifierExtension=[])]"
      ]
     },
     "execution_count": 7,
     "metadata": {},
     "output_type": "execute_result"
    }
   ],
   "source": [
    "# this is the new field for asserters and other participants in R5\n",
    "c.participant"
   ]
  },
  {
   "cell_type": "code",
   "execution_count": 8,
   "metadata": {},
   "outputs": [],
   "source": [
    "# now let's generate the mCODE classes which is an ImplementationGuide with a bunch of profiles\n",
    "!typegen --from-bundles spec/fhir.r4b.types.json --from-bundles spec/fhir.r4b.resources.json --from-bundles spec/fhir.mcode-profiles.json --out mcode.py"
   ]
  },
  {
   "cell_type": "code",
   "execution_count": 1,
   "metadata": {},
   "outputs": [],
   "source": [
    "# each profile is a class\n",
    "from mcode import CancerStageGroup\n",
    "\n",
    "csg = CancerStageGroup.parse_obj({\n",
    "  \"resourceType\" : \"Observation\",\n",
    "  \"status\" : \"final\",\n",
    "  \"code\" : {\n",
    "    \"coding\" : [\n",
    "      {\n",
    "        \"system\" : \"http://loinc.org\",\n",
    "        \"code\" : \"21908-9\",\n",
    "        \"display\" : \"Stage group.clinical Cancer\"\n",
    "      }\n",
    "    ]\n",
    "  },\n",
    "  \"subject\" : {\n",
    "    \"reference\" : \"Patient/cancer-patient-john-anyperson\"\n",
    "  },\n",
    "  \"effectiveDateTime\" : \"2019-04-01\",\n",
    "  \"valueCodeableConcept\" : {\n",
    "    \"coding\" : [\n",
    "      {\n",
    "        \"system\" : \"http://cancerstaging.org\",\n",
    "        \"code\" : \"3C\",\n",
    "        \"display\" : \"IIIC\"\n",
    "      }\n",
    "    ]\n",
    "  },\n",
    "  \"method\" : {\n",
    "    \"coding\" : [\n",
    "      {\n",
    "        \"system\" : \"http://snomed.info/sct\",\n",
    "        \"code\" : \"897275008\",\n",
    "        \"display\" : \"American Joint Commission on Cancer, Cancer Staging Manual, 8th edition neoplasm staging system (tumor staging)\"\n",
    "      }\n",
    "    ]\n",
    "  },\n",
    "  \"hasMember\" : [\n",
    "    {\n",
    "      \"reference\" : \"Observation/tnm-clinical-primary-tumor-category-cT3\"\n",
    "    },\n",
    "    {\n",
    "      \"reference\" : \"Observation/tnm-clinical-regional-nodes-category-cN3\"\n",
    "    },\n",
    "    {\n",
    "      \"reference\" : \"Observation/tnm-clinical-distant-metastases-category-cM0\"\n",
    "    }\n",
    "  ]\n",
    "})"
   ]
  }
 ],
 "metadata": {
  "kernelspec": {
   "display_name": ".venv",
   "language": "python",
   "name": "python3"
  },
  "language_info": {
   "codemirror_mode": {
    "name": "ipython",
    "version": 3
   },
   "file_extension": ".py",
   "mimetype": "text/x-python",
   "name": "python",
   "nbconvert_exporter": "python",
   "pygments_lexer": "ipython3",
   "version": "3.11.3"
  },
  "orig_nbformat": 4
 },
 "nbformat": 4,
 "nbformat_minor": 2
}
