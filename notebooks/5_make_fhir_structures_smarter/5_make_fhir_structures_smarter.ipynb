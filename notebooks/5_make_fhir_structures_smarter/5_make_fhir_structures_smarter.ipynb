{
 "cells": [
  {
   "attachments": {},
   "cell_type": "markdown",
   "metadata": {},
   "source": [
    "There are plenty of tricks in Python to remove all kinds of boiler plate and improve the DX (developer experience).\n",
    "Here we'll go over some of them"
   ]
  },
  {
   "attachments": {},
   "cell_type": "markdown",
   "metadata": {},
   "source": [
    "### Display the narrative via `__repr_html_`"
   ]
  },
  {
   "attachments": {},
   "cell_type": "markdown",
   "metadata": {},
   "source": [
    "### Build Parameters from a dictionary"
   ]
  },
  {
   "attachments": {},
   "cell_type": "markdown",
   "metadata": {},
   "source": [
    "### `exclude_none` by default when serializing to JSON"
   ]
  },
  {
   "attachments": {},
   "cell_type": "markdown",
   "metadata": {},
   "source": [
    "### Build a custom date type that supports `YYYY`, `YYYY-MM` and `YYYY-MM-DD`"
   ]
  },
  {
   "attachments": {},
   "cell_type": "markdown",
   "metadata": {},
   "source": [
    "Other things you might do:\n",
    "- display only the 'summary' fields in `__repr__`\n",
    "- add lookup mechanisms for extensions\n",
    "- automatically determine the type for polymorphic fields (ex. `Observation.value[x]`)\n",
    "- add properties to access slices"
   ]
  },
  {
   "attachments": {},
   "cell_type": "markdown",
   "metadata": {},
   "source": []
  }
 ],
 "metadata": {
  "language_info": {
   "name": "python"
  },
  "orig_nbformat": 4
 },
 "nbformat": 4,
 "nbformat_minor": 2
}
