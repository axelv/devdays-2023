{
 "cells": [
  {
   "cell_type": "code",
   "execution_count": 1,
   "metadata": {},
   "outputs": [],
   "source": [
    "from IPython.display import display\n",
    "from typing import TypedDict, Unpack\n",
    "from pprint import pprint"
   ]
  },
  {
   "attachments": {},
   "cell_type": "markdown",
   "metadata": {},
   "source": [
    "There are plenty of tricks in Python to remove all kinds of boiler plate and improve the DX (developer experience).\n",
    "Here we'll go over some of them"
   ]
  },
  {
   "attachments": {},
   "cell_type": "markdown",
   "metadata": {},
   "source": [
    "### Display the narrative via `_repr_html_`"
   ]
  },
  {
   "cell_type": "code",
   "execution_count": 2,
   "metadata": {},
   "outputs": [
    {
     "data": {
      "text/html": [
       "<div xmlns=\"http://www.w3.org/1999/xhtml\"><div class=\"hapiHeaderText\">Jane <b>DOE </b></div><table class=\"hapiPropertyTable\"><tbody><tr><td>Date of birth</td><td><span>01 January 1970</span></td></tr></tbody></table></div>"
      ],
      "text/plain": [
       "Patient(resourceType='Patient', id='596637', meta=Meta(source='#iruvNwCrTm9erTXX', versionId='3', lastUpdated='2020-02-02T06:54:08.067+00:00'), text=Narrative(div='<div xmlns=\"http://www.w3.org/1999/xhtml\"><div class=\"hapiHeaderText\">Jane <b>DOE </b></div><table class=\"hapiPropertyTable\"><tbody><tr><td>Date of birth</td><td><span>01 January 1970</span></td></tr></tbody></table></div>', status='generated'), name=[HumanName(given=['Jane'], family='Doe')], active=True, gender='female', birthDate=Date(year=1970, month=1, day=1), deceasedBoolean=False)"
      ]
     },
     "metadata": {},
     "output_type": "display_data"
    }
   ],
   "source": [
    "from fhirpy import SyncFHIRClient\n",
    "from fhirpy.base.exceptions import OperationOutcome\n",
    "import r4\n",
    "FHIR_SERVER_API = \"http://hapi.fhir.org/baseR4\"\n",
    "\n",
    "client = SyncFHIRClient(FHIR_SERVER_API)\n",
    "try:\n",
    "    response = client.resources(\"Patient\").search(birthdate=\"1970-01-01\", name=\"Doe\").limit(1).first()\n",
    "    patient = r4.Patient.parse_obj(response)\n",
    "except OperationOutcome as e:\n",
    "    display(r4.OperationOutcome(**e.resource))\n",
    "else:\n",
    "    display(patient) # this presents the narrative as HTML in the notebook"
   ]
  },
  {
   "attachments": {},
   "cell_type": "markdown",
   "metadata": {},
   "source": [
    "### Build Parameters from a dictionary"
   ]
  },
  {
   "cell_type": "code",
   "execution_count": 4,
   "metadata": {},
   "outputs": [
    {
     "name": "stdout",
     "output_type": "stream",
     "text": [
      "SmartParameters(resourceType='Parameters', parameter=[ParametersParameter(name='name', valueString='John'), ParametersParameter(name='birthdate', valueDate=Date(year=1970, month=1, day=1))])\n"
     ]
    }
   ],
   "source": [
    "# Now you can define parameters like this:    \n",
    "class MyKwargs(TypedDict):\n",
    "    name: r4.string\n",
    "    birthdate: r4.date\n",
    "\n",
    "# Define this is once\n",
    "class SmartParameters(r4.Parameters):\n",
    "\n",
    "    @classmethod\n",
    "    def from_kwargs(cls, **kwargs:Unpack[MyKwargs]):\n",
    "        \"\"\"Create a Parameters resource from a dictionary with keys and fhir typed values.\"\"\"\n",
    "        return cls.parse_obj({\n",
    "                \"resourceType\": \"Parameters\",\n",
    "                \"parameter\": [\n",
    "                    {\"name\": k, f\"value{MyKwargs.__annotations__[k].__name__.capitalize()}\": v} for k,v in kwargs.items()\n",
    "                ]\n",
    "            })\n",
    "my_params = SmartParameters.from_kwargs(name=r4.string(\"John\"), birthdate=r4.date(\"1970-01-01\"))\n",
    "\n",
    "pprint(my_params)"
   ]
  },
  {
   "attachments": {},
   "cell_type": "markdown",
   "metadata": {},
   "source": [
    "### `exclude_none` by default when serializing to JSON"
   ]
  },
  {
   "cell_type": "code",
   "execution_count": 5,
   "metadata": {},
   "outputs": [
    {
     "name": "stdout",
     "output_type": "stream",
     "text": [
      "{\n",
      "  \"resourceType\": \"Parameters\",\n",
      "  \"parameter\": [\n",
      "    {\n",
      "      \"name\": \"name\",\n",
      "      \"part\": [],\n",
      "      \"valueString\": \"John\",\n",
      "      \"extension\": [],\n",
      "      \"modifierExtension\": []\n",
      "    },\n",
      "    {\n",
      "      \"name\": \"birthdate\",\n",
      "      \"part\": [],\n",
      "      \"valueDate\": \"1970-01-01\",\n",
      "      \"extension\": [],\n",
      "      \"modifierExtension\": []\n",
      "    }\n",
      "  ]\n",
      "}\n"
     ]
    }
   ],
   "source": [
    "print(my_params.json(indent=2))"
   ]
  },
  {
   "attachments": {},
   "cell_type": "markdown",
   "metadata": {},
   "source": [
    "### Build a custom date type that supports `YYYY`, `YYYY-MM` and `YYYY-MM-DD`"
   ]
  },
  {
   "cell_type": "code",
   "execution_count": 7,
   "metadata": {},
   "outputs": [
    {
     "data": {
      "text/plain": [
       "Date(year=1970, month=1, day=1)"
      ]
     },
     "metadata": {},
     "output_type": "display_data"
    },
    {
     "data": {
      "text/plain": [
       "1970"
      ]
     },
     "metadata": {},
     "output_type": "display_data"
    }
   ],
   "source": [
    "from fhirpy import SyncFHIRClient\n",
    "from fhirpy.base.exceptions import OperationOutcome\n",
    "FHIR_SERVER_API = \"http://hapi.fhir.org/baseR4\"\n",
    "\n",
    "client = SyncFHIRClient(FHIR_SERVER_API)\n",
    "try:\n",
    "    response = client.resources(\"Patient\").search(birthdate=\"1970-01-01\", name=\"Doe\").limit(1).first()\n",
    "    patient = r4.Patient.parse_obj(response)\n",
    "    assert patient.birthDate is not None\n",
    "    display(patient.birthDate)\n",
    "    display(patient.birthDate.year)\n",
    "except OperationOutcome as e:\n",
    "    display(r4.OperationOutcome(**e.resource))"
   ]
  },
  {
   "cell_type": "code",
   "execution_count": 9,
   "metadata": {},
   "outputs": [
    {
     "name": "stdout",
     "output_type": "stream",
     "text": [
      "1970-1\n",
      "year=1970 month=1\n"
     ]
    }
   ],
   "source": [
    "patient_with_birthyearmonth = r4.Patient.parse_obj({**patient.dict(), \"birthDate\": \"1970-01\"})\n",
    "assert patient_with_birthyearmonth.birthDate is not None\n",
    "print(patient_with_birthyearmonth.birthDate)\n",
    "print(f\"year={patient_with_birthyearmonth.birthDate.year}\", f\"month={patient_with_birthyearmonth.birthDate.month}\")"
   ]
  },
  {
   "attachments": {},
   "cell_type": "markdown",
   "metadata": {},
   "source": [
    "Other things you might do:\n",
    "- display only the 'summary' fields in `__repr__`\n",
    "- add lookup mechanisms for extensions\n",
    "- automatically determine the type for polymorphic fields (ex. `Observation.value[x]`)\n",
    "- add properties to access slices"
   ]
  },
  {
   "attachments": {},
   "cell_type": "markdown",
   "metadata": {},
   "source": []
  }
 ],
 "metadata": {
  "kernelspec": {
   "display_name": ".venv",
   "language": "python",
   "name": "python3"
  },
  "language_info": {
   "codemirror_mode": {
    "name": "ipython",
    "version": 3
   },
   "file_extension": ".py",
   "mimetype": "text/x-python",
   "name": "python",
   "nbconvert_exporter": "python",
   "pygments_lexer": "ipython3",
   "version": "3.11.3"
  },
  "orig_nbformat": 4
 },
 "nbformat": 4,
 "nbformat_minor": 2
}
