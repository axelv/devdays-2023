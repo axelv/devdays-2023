{
 "cells": [
  {
   "cell_type": "code",
   "execution_count": 6,
   "metadata": {},
   "outputs": [
    {
     "name": "stdout",
     "output_type": "stream",
     "text": [
      "{'family': 'Doe', 'given': ['Jane']}\n"
     ]
    }
   ],
   "source": [
    "# the standard Python way of fetching FHIR resources\n",
    "from requests import get\n",
    "# these are some headers that we always want to send with our requests\n",
    "req_kwargs = {\"headers\" : {\"Accept\": \"application/fhir+json; fhirVersion=4.3\"}}\n",
    "# let's get a patient\n",
    "patient_search_result = get(\"http://hapi.fhir.org/baseR4/Patient?birthdate=1970-01-01&_count=1\", **req_kwargs).json()\n",
    "patient = patient_search_result[\"entry\"][0][\"resource\"]\n",
    "print(patient[\"name\"][0]) # print the entry of the patient's name"
   ]
  },
  {
   "cell_type": "code",
   "execution_count": 7,
   "metadata": {},
   "outputs": [
    {
     "data": {
      "text/plain": [
       "HumanName(id=None, use=None, text=None, given=['Jane'], family='Doe', prefix=[], suffix=[], period=None, extension=[])"
      ]
     },
     "metadata": {},
     "output_type": "display_data"
    }
   ],
   "source": [
    "from fhirpy import SyncFHIRClient\n",
    "from fhirpy.base.exceptions import OperationOutcome\n",
    "import r4\n",
    "FHIR_SERVER_API = \"http://hapi.fhir.org/baseR4\"\n",
    "\n",
    "client = SyncFHIRClient(FHIR_SERVER_API)\n",
    "try:\n",
    "    response = client.resources(\"Patient\").search(birthdate=\"1970-01-01\", name=\"Doe\").limit(1).first()\n",
    "    patient = r4.Patient.parse_obj(response)\n",
    "    display(patient.name[0])\n",
    "except OperationOutcome as e:\n",
    "    display(r4.OperationOutcome(**e.resource))"
   ]
  },
  {
   "attachments": {},
   "cell_type": "markdown",
   "metadata": {},
   "source": []
  }
 ],
 "metadata": {
  "kernelspec": {
   "display_name": ".venv",
   "language": "python",
   "name": "python3"
  },
  "language_info": {
   "codemirror_mode": {
    "name": "ipython",
    "version": 3
   },
   "file_extension": ".py",
   "mimetype": "text/x-python",
   "name": "python",
   "nbconvert_exporter": "python",
   "pygments_lexer": "ipython3",
   "version": "3.11.3"
  },
  "orig_nbformat": 4
 },
 "nbformat": 4,
 "nbformat_minor": 2
}
